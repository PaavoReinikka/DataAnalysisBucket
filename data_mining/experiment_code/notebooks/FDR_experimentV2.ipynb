{
 "cells": [
  {
   "cell_type": "code",
   "execution_count": 1,
   "metadata": {},
   "outputs": [],
   "source": [
    "import numpy as np\n",
    "import pandas as pd\n",
    "import seaborn as sns\n",
    "import matplotlib.pyplot as plt\n",
    "import scipy.stats as stats\n",
    "from statsmodels.stats import multitest\n",
    "import copy\n",
    "\n",
    "import yaml\n",
    "import pickle\n",
    "import sys\n",
    "sys.path.insert(1, \"../code/utils\")\n",
    "sys.path.insert(1, \"../code/data_modification\")\n",
    "sys.path.insert(1, \"../code/experiment_code\")\n",
    "from experiment_utils import *\n",
    "from celldata import *\n",
    "from effects import *\n",
    "from n_effective import *\n",
    "from experiment_dumps import *"
   ]
  },
  {
   "cell_type": "code",
   "execution_count": 2,
   "metadata": {},
   "outputs": [],
   "source": [
    "def FDR_experimentV1(X,n_iter, alpha=0.05, equal_var=True, \\\n",
    "                    mask_model = lambda x: np.zeros((x.shape[0],4)), effect_model=lambda x,y: x,\\\n",
    "                        TAG='UNKNOWN'):\n",
    "    # data X should have no significant effects (either X is residuals or X has sigificant effects removed)\n",
    "                                   \n",
    "    FN_bh = np.zeros(n_iter)\n",
    "    FP_bh = np.zeros(n_iter)\n",
    "    rejections_bh = np.zeros(n_iter,dtype=int)\n",
    "    \n",
    "    FN_by = np.zeros(n_iter)\n",
    "    FP_by = np.zeros(n_iter)\n",
    "    rejections_by = np.zeros(n_iter,dtype=int)\n",
    "    \n",
    "    FN_bonf = np.zeros(n_iter,dtype=int)\n",
    "    FP_bonf = np.zeros(n_iter,dtype=int)\n",
    "    rejections_bonf = np.zeros(n_iter,dtype=int)\n",
    "    \n",
    "    FN_bh_2step = np.zeros(n_iter,dtype=int)\n",
    "    FP_bh_2step = np.zeros(n_iter,dtype=int)\n",
    "    rejections_bh_2step = np.zeros(n_iter,dtype=int)\n",
    "\n",
    "    FN_bky_2step = np.zeros(n_iter,dtype=int)\n",
    "    FP_bky_2step = np.zeros(n_iter,dtype=int)\n",
    "    rejections_bky_2step = np.zeros(n_iter,dtype=int)\n",
    "    \n",
    "    counts = np.zeros(n_iter,dtype=int)\n",
    "    n_effects = np.zeros(n_iter,dtype=int)\n",
    "    \n",
    "    m0_estimates_bh = np.zeros(n_iter)\n",
    "    m0_estimates_bky = np.zeros(n_iter)\n",
    "    \n",
    "    for i in range(n_iter):\n",
    "        # make sure that mask function is randomizing the locations of the effects\n",
    "        mask = mask_model(X)\n",
    "        true_rejections = compile_pairwise_effect_indicators_legacy(mask)\n",
    "        \n",
    "        mask = effect_model(np.zeros_like(X),mask)\n",
    "        mask = compile_pairwise_comparisons_legacy(mask)\n",
    "        \n",
    "        x_perm = compile_pairwise_comparisons_legacy(X)\n",
    "        rand_inds = np.random.permutation(x_perm.shape[1])\n",
    "        x_perm = x_perm[:,rand_inds]\n",
    "        x_perm += mask\n",
    "        \n",
    "        n_effects[i] = np.sum(true_rejections)\n",
    "        \n",
    "        pvals = stats.ttest_ind(x_perm[:,:10], x_perm[:,10:], axis=1, equal_var=equal_var).pvalue\n",
    "        counts[i] = len(pvals)\n",
    "        \n",
    "        h = multitest.multipletests(pvals, alpha=alpha, method='fdr_bh')[0]\n",
    "        rejections_bh[i] = np.sum(h)\n",
    "        FN_bh[i] = false_negatives(h,true_rejections)\n",
    "        FP_bh[i] = false_positives(h,true_rejections)\n",
    "        \n",
    "        h = multitest.multipletests(pvals, alpha=alpha, method='fdr_by')[0]\n",
    "        rejections_by[i] = np.sum(h)\n",
    "        FN_by[i] = false_negatives(h,true_rejections)\n",
    "        FP_by[i] = false_positives(h,true_rejections)\n",
    "        \n",
    "        h = multitest.multipletests(pvals, alpha=alpha, method='bonferroni')[0]\n",
    "        rejections_bonf[i] = np.sum(h)\n",
    "        FN_bonf[i] = false_negatives(h,true_rejections)\n",
    "        FP_bonf[i] = false_positives(h,true_rejections)\n",
    "        \n",
    "        m0_estimate_bh, alpha_adjusted = estimate_m0_bh(pvals, alpha=alpha, is_sorted=False)\n",
    "        h = multitest.multipletests(pvals, alpha=alpha_adjusted, method='fdr_bh', is_sorted=False)[0]\n",
    "        rejections_bh_2step[i] = np.sum(h)\n",
    "        FN_bh_2step[i] = false_negatives(h,true_rejections)\n",
    "        FP_bh_2step[i] = false_positives(h,true_rejections)        \n",
    "        \n",
    "        m0_estimate_bky, alpha_adjusted = estimate_m0_bky(pvals, alpha=alpha, method='fdr_bh', is_sorted=False)\n",
    "        h = multitest.multipletests(pvals, alpha=alpha_adjusted, method='fdr_bh', is_sorted=False)[0]\n",
    "        rejections_bky_2step[i] = np.sum(h)\n",
    "        FN_bky_2step[i] = false_negatives(h,true_rejections)\n",
    "        FP_bky_2step[i] = false_positives(h,true_rejections)\n",
    "        \n",
    "        m0_estimates_bh[i] = m0_estimate_bh\n",
    "        m0_estimates_bky[i] = m0_estimate_bky\n",
    "        \n",
    "    \n",
    "    return {'TAG':TAG,'BH':{'FN': FN_bh, 'FP': FP_bh, 'rejections': rejections_bh}, \\\n",
    "            'BY':{'FN': FN_by, 'FP': FP_by, 'rejections': rejections_by}, \\\n",
    "            'BONF':{'FN': FN_bonf, 'FP': FP_bonf, 'rejections': rejections_bonf}, \\\n",
    "            'BH_2STEP':{'FN': FN_bh_2step, 'FP': FP_bh_2step, 'rejections': rejections_bh_2step}, \\\n",
    "            'BKY_2STEP':{'FN': FN_bky_2step, 'FP': FP_bky_2step, 'rejections': rejections_bky_2step}, \\\n",
    "            'n_effects': n_effects, 'n_tests': counts, 'm0_estimates_bh': m0_estimates_bh, 'm0_estimates_bky': m0_estimates_bky}\n",
    " \n",
    "\n",
    "def FDR_experimentV2(X,n_iter, alpha=0.05, equal_var=True, \\\n",
    "                    mask_model = lambda x: np.zeros((x.shape[0],4)), effect_model=lambda x,y: x,\\\n",
    "                        method = 'fdr_bh', th=0.1, TAG='UNKNOWN'):\n",
    "    # data X should have no significant effects (either X is residuals or X has sigificant effects removed)\n",
    "    \n",
    "    FN_fdr_spectral = np.zeros(n_iter)\n",
    "    FP_fdr_spectral = np.zeros(n_iter)\n",
    "    rejections_fdr_spectral = np.zeros(n_iter,dtype=int)\n",
    "    \n",
    "    FN_fdr_cluster = np.zeros(n_iter)\n",
    "    FP_fdr_cluster = np.zeros(n_iter)\n",
    "    rejections_fdr_cluster = np.zeros(n_iter,dtype=int)\n",
    "                                   \n",
    "    FN_bonf_spectral = np.zeros(n_iter,dtype=int)\n",
    "    FP_bonf_spectral = np.zeros(n_iter,dtype=int)\n",
    "    rejections_bonf_spectral = np.zeros(n_iter,dtype=int)\n",
    "    \n",
    "    FN_bonf_cluster = np.zeros(n_iter,dtype=int)\n",
    "    FP_bonf_cluster = np.zeros(n_iter,dtype=int)\n",
    "    rejections_bonf_cluster = np.zeros(n_iter,dtype=int)\n",
    "    \n",
    "    counts = np.zeros(n_iter,dtype=int)\n",
    "    n_effects = np.zeros(n_iter,dtype=int)\n",
    "    M_eff_spectral = np.zeros(n_iter)\n",
    "    M_eff_cluster = np.zeros(n_iter)\n",
    "    \n",
    "    for i in range(n_iter):\n",
    "        # make sure that mask function is randomizing the locations of the effects\n",
    "        mask = mask_model(X)\n",
    "        true_rejections = compile_pairwise_effect_indicators_legacy(mask)\n",
    "        \n",
    "        mask = effect_model(np.zeros_like(X),mask)\n",
    "        mask = compile_pairwise_comparisons_legacy(mask)\n",
    "        \n",
    "        x_perm = compile_pairwise_comparisons_legacy(X)\n",
    "        rand_inds = np.random.permutation(x_perm.shape[1])\n",
    "        x_perm = x_perm[:,rand_inds]\n",
    "        x_perm += mask\n",
    "        \n",
    "        n_effects[i] = np.sum(true_rejections)\n",
    "        \n",
    "        cor = np.corrcoef(x_perm)\n",
    "        M_eff_spectral[i] = n_eff_spectral_fast(cor, factor=1)\n",
    "        M_eff_cluster[i] = n_eff_cluster_fast(cor, threshold=th, factor=1)\n",
    "        \n",
    "        pvals = stats.ttest_ind(x_perm[:,:10], x_perm[:,10:], axis=1, equal_var=equal_var).pvalue\n",
    "        counts[i] = len(pvals)\n",
    "        \n",
    "        h = (M_eff_spectral[i]*pvals < alpha)        \n",
    "        rejections_bonf_spectral[i] = np.sum(h)\n",
    "        FN_bonf_spectral[i] = false_negatives(h,true_rejections)\n",
    "        FP_bonf_spectral[i] = false_positives(h,true_rejections)\n",
    "        \n",
    "        h = (M_eff_cluster[i]*pvals < alpha)\n",
    "        rejections_bonf_cluster[i] = np.sum(h)\n",
    "        FN_bonf_cluster[i] = false_negatives(h,true_rejections)\n",
    "        FP_bonf_cluster[i] = false_positives(h,true_rejections)\n",
    "         \n",
    "        h = multitest.multipletests(pvals, alpha=alpha*len(pvals)/M_eff_spectral[i], method=method)[0]\n",
    "        rejections_fdr_spectral[i] = np.sum(h)\n",
    "        FN_fdr_spectral[i] = false_negatives(h,true_rejections)\n",
    "        FP_fdr_spectral[i] = false_positives(h,true_rejections)\n",
    "        \n",
    "        h = multitest.multipletests(pvals, alpha=alpha*len(pvals)/M_eff_cluster[i], method=method)[0]\n",
    "        rejections_fdr_cluster[i] = np.sum(h)\n",
    "        FN_fdr_cluster[i] = false_negatives(h,true_rejections)\n",
    "        FP_fdr_cluster[i] = false_positives(h,true_rejections)\n",
    "        \n",
    "    return {'TAG':TAG,'FDR_SPECTRAL':{'FN': FN_fdr_spectral, 'FP': FP_fdr_spectral, 'rejections': rejections_fdr_spectral}, \\\n",
    "            'FDR_CLUSTER':{'FN': FN_fdr_cluster, 'FP': FP_fdr_cluster, 'rejections': rejections_fdr_cluster}, \\\n",
    "            'BONF_SPECTRAL':{'FN': FN_bonf_spectral, 'FP': FP_bonf_spectral, 'rejections': rejections_bonf_spectral}, \\\n",
    "            'BONF_CLUSTER':{'FN': FN_bonf_cluster, 'FP': FP_bonf_cluster, 'rejections': rejections_bonf_cluster}, \\\n",
    "            'n_effects': n_effects, 'n_tests': counts, 'M_eff_spectral': M_eff_spectral, 'M_eff_cluster': M_eff_cluster}        \n",
    "\n",
    "\n",
    "def FDR_experimentV3(X,n_iter, alpha=0.05, equal_var=True, \\\n",
    "                    mask_model = lambda x: np.zeros((x.shape[0],4)), effect_model=lambda x,y: x,\\\n",
    "                        method = 'fdr_bh', combine_method = 'min', th=0.1, TAG='UNKNOWN'):\n",
    "    # data X should have no significant effects (either X is residuals or X has sigificant effects removed)\n",
    "\n",
    "    FN = np.zeros(n_iter)\n",
    "    FP = np.zeros(n_iter)\n",
    "    rejections = np.zeros(n_iter,dtype=int)\n",
    "    \n",
    "    counts = np.zeros(n_iter,dtype=int)\n",
    "    n_effects = np.zeros(n_iter,dtype=int)\n",
    "    M_eff = np.zeros(n_iter)\n",
    "    \n",
    "    pvalues = np.zeros((n_iter,X.shape[0]*6))\n",
    "    \n",
    "    for i in range(n_iter):\n",
    "        mask = mask_model(X)\n",
    "        true_rejections = compile_pairwise_effect_indicators_legacy(mask)\n",
    "        \n",
    "        mask = effect_model(np.zeros_like(X),mask)\n",
    "        mask = compile_pairwise_comparisons_legacy(mask)\n",
    "        \n",
    "        x_perm = compile_pairwise_comparisons_legacy(X)\n",
    "        rand_inds = np.random.permutation(x_perm.shape[1])\n",
    "        x_perm = x_perm[:,rand_inds]\n",
    "        x_perm += mask\n",
    "        \n",
    "        n_effects[i] = np.sum(true_rejections)\n",
    "        \n",
    "        cor = np.corrcoef(x_perm)\n",
    "        cor = n_eff_cluster_fast(cor, threshold = th, method = 'complete', return_labels = True, factor = 1)\n",
    "        M_eff[i] = cor[0]\n",
    "        labels = cor[1]\n",
    "                \n",
    "        pvals = stats.ttest_ind(x_perm[:,:10], x_perm[:,10:], axis=1, equal_var=equal_var).pvalue\n",
    "        counts[i] = len(pvals)\n",
    "        pvals = combine_pvalues(pvals[:,np.newaxis], labels, method = combine_method)\n",
    "        pvalues[i,:] = pvals.flatten()\n",
    "        \n",
    "        h = multitest.multipletests(pvals, alpha=alpha, method=method)[0]\n",
    "        rejections[i] = np.sum(h)\n",
    "        FN[i] = false_negatives(h,true_rejections)\n",
    "        FP[i] = false_positives(h,true_rejections)\n",
    "        \n",
    "        method_tag = method.upper() + '_' + combine_method.upper()\n",
    "        \n",
    "    return {'TAG':TAG, method_tag: {'FN': FN, 'FP': FP, 'rejections': rejections}, \\\n",
    "            'n_effects': n_effects, 'n_tests': counts, 'M_eff': M_eff, 'pvalues': pvalues}\n",
    "        \n",
    "        \n",
    "    \n",
    "def FDR_resampling_experimentV1(X,n_iter, n_iter_inner=1000, alpha=0.05, equal_var=True,\\\n",
    "    mask_model = lambda x: np.zeros((x.shape[0],4)), effect_model=lambda x, y: x, TAG='UNKNOWN'):\n",
    "    # data X should have no significant effects (either X is residuals or X has sigificant effects removed)\n",
    "        \n",
    "    FN_wy = np.zeros(n_iter)\n",
    "    FP_wy = np.zeros(n_iter)\n",
    "    \n",
    "    FN_reiner_bh = np.zeros(n_iter)\n",
    "    FP_reiner_bh = np.zeros(n_iter)\n",
    "    \n",
    "    FN_reiner_by = np.zeros(n_iter)\n",
    "    FP_reiner_by = np.zeros(n_iter)\n",
    "    \n",
    "    rejections_wy = np.zeros(n_iter,dtype=int)\n",
    "    rejections_reiner_bh = np.zeros(n_iter,dtype=int)\n",
    "    rejections_reiner_by = np.zeros(n_iter,dtype=int)\n",
    "    \n",
    "    counts = np.zeros(n_iter,dtype=int)\n",
    "    n_effects = np.zeros(n_iter,dtype=int)\n",
    "    \n",
    "    for i in range(n_iter):\n",
    "        mask = mask_model(X)\n",
    "        true_rejections = compile_pairwise_effect_indicators_legacy(mask)\n",
    "        \n",
    "        mask = effect_model(np.zeros_like(X),mask)\n",
    "        mask = compile_pairwise_comparisons_legacy(mask)\n",
    "        \n",
    "        x_perm = compile_pairwise_comparisons_legacy(X)\n",
    "        rand_inds = np.random.permutation(x_perm.shape[1])\n",
    "        x_perm = x_perm[:,rand_inds]\n",
    "        x_perm += mask\n",
    "        \n",
    "        _, __, resampled_stats, max_stats = westfall_young_resampled_pvalues(x_perm, n_iter=n_iter_inner, equal_var=equal_var)        \n",
    "        \n",
    "        n_effects[i] = np.sum(true_rejections)\n",
    "        \n",
    "        #pval_wy = np.sort(min_pvals)[int(alpha*n_iter_inner)]\n",
    "        stat_wy = np.sort(max_stats)[::-1][int(alpha*n_iter_inner)]\n",
    "        result = stats.ttest_ind(x_perm[:,:10], x_perm[:,10:], axis=1, equal_var=equal_var)\n",
    "        pvals = result.pvalue\n",
    "        statistics = result.statistic\n",
    "        #adjusted_pvals_reiner, adjusted_pvals_marginal = resampling_adjusted_pvalues(pvals, resampled_pvals)\n",
    "        adjusted_pvals_reiner = resampling_adjusted_pvalues_from_stats(statistics, resampled_stats)\n",
    "        \n",
    "        counts[i] = len(pvals)\n",
    "        #h_wy[i] = (pvals < pval_wy)\n",
    "        h_wy = (np.abs(statistics) > stat_wy)\n",
    "        h_reiner_bh = multitest.multipletests(adjusted_pvals_reiner, alpha=alpha, method='fdr_bh', is_sorted=False)[0]\n",
    "        h_reiner_by = multitest.multipletests(adjusted_pvals_reiner, alpha=alpha, method='fdr_by', is_sorted=False)[0]\n",
    "        \n",
    "        rejections_wy[i] = np.sum(h_wy)\n",
    "        rejections_reiner_bh[i] = np.sum(h_reiner_bh)\n",
    "        rejections_reiner_by[i] = np.sum(h_reiner_by)\n",
    "        \n",
    "        FN_wy[i] = false_negatives(h_wy,true_rejections)\n",
    "        FP_wy[i] = false_positives(h_wy,true_rejections)\n",
    "\n",
    "        FN_reiner_bh[i] = false_negatives(h_reiner_bh,true_rejections)\n",
    "        FP_reiner_bh[i] = false_positives(h_reiner_bh,true_rejections)\n",
    "        \n",
    "        FN_reiner_by[i] = false_negatives(h_reiner_by,true_rejections)\n",
    "        FP_reiner_by[i] = false_positives(h_reiner_by,true_rejections)\n",
    "        \n",
    "    # return everything in a dictionary\n",
    "    return {'TAG':TAG,'WY':{'FN': FN_wy, 'FP': FP_wy, 'rejections': rejections_wy}, \\\n",
    "            'REINER_BH':{'FN': FN_reiner_bh, 'FP': FP_reiner_bh, 'rejections': rejections_reiner_bh},\\\n",
    "            'REINER_BY':{'FN': FN_reiner_by, 'FP': FP_reiner_by, 'rejections': rejections_reiner_by},\\\n",
    "            'n_effects': n_effects, 'n_tests': counts}\n",
    "        \n",
    "    "
   ]
  },
  {
   "cell_type": "code",
   "execution_count": 15,
   "metadata": {},
   "outputs": [],
   "source": [
    "\n",
    "\n",
    "def calculate_relevant_measures(result):\n",
    "    # calculate relevant measures for each method:\n",
    "    # Sensitivity, Specificity, FDR, FWER, average power, average proportion of rejections to true effects.\n",
    "    # additionally, for any key with 'M_eff' in it, calculate the average M_eff, and same for 'n_effects',\n",
    "    # and anything with 'm0' in it, calculate the average m0 estimate (use same keys as in the result dictionary)\n",
    "    # This is the structure of the result dictionary\n",
    "    '''\n",
    "    {'TAG':TAG,'WY':{'FN': FN_wy, 'FP': FP_wy, 'rejections': rejections_wy}, \\\n",
    "            'REINER_BH':{'FN': FN_reiner_bh, 'FP': FP_reiner_bh, 'rejections': rejections_reiner_bh},\\\n",
    "            'REINER_BY':{'FN': FN_reiner_by, 'FP': FP_reiner_by, 'rejections': rejections_reiner_by},\\\n",
    "            'n_effects': n_effects, 'n_tests': counts}\n",
    "    '''\n",
    "    measures = {}\n",
    "    m1 = result['n_effects']\n",
    "    m = result['n_tests']\n",
    "    m0 = m - m1\n",
    "    for key in result.keys():\n",
    "        if key == 'TAG':\n",
    "            # add tag to measures\n",
    "            measures['TAG'] = result['TAG']\n",
    "        # if the value is a dictionary, then we need to calculate the measures\n",
    "        # We know there are always FN, FP, and rejections\n",
    "        elif isinstance(result[key],dict):\n",
    "            FN = result[key]['FN']\n",
    "            V = FP = result[key]['FP']\n",
    "            R = result[key]['rejections']\n",
    "            S = TP = R - FP\n",
    "            TN = m - R - FN\n",
    "            # make a dictionary to store the measures with the same keys as the result dictionary\n",
    "            measures[key] = {}\n",
    "            measures[key]['Sensitivity'] = np.mean(TP/(TP+FN))  \n",
    "            measures[key]['Specificity'] = np.mean(TN/(TN+FP))\n",
    "            FDP = [v/r if r > 0 else 0 for v,r in zip(V,R)]\n",
    "            measures[key]['FDR'] = np.mean(FDP)\n",
    "            measures[key]['FDP_var'] = np.var(FDP)\n",
    "            measures[key]['FWER'] = np.mean(V>=1)\n",
    "            measures[key]['Average_Power'] = np.mean(S/m1)\n",
    "            # accuracy is proportion of correctly assigned tests\n",
    "            measures[key]['Accuracy'] = np.mean((TP+TN)/m)\n",
    "            measures[key]['Average_Proportion_Rejections'] = np.mean(R/m1)\n",
    "\n",
    "        # if the value is an array, then we need to calculate the average\n",
    "        elif isinstance(result[key],np.ndarray):\n",
    "            # if the key has 'M_eff' in it, then calculate the average M_eff\n",
    "            if 'M_eff' in key:\n",
    "                new_key = key + '_average_proportion'\n",
    "                measures[new_key] = np.mean(result[key]/m)\n",
    "            if 'm0' in key:\n",
    "                new_key = key + '_average_proportion'\n",
    "                measures[new_key] = np.mean(result[key]/m0)\n",
    "                        \n",
    "    return measures\n",
    "\n",
    "def print_relevant_measures(measures):\n",
    "    for key in measures.keys():\n",
    "        if isinstance(measures[key],dict):\n",
    "            print(key)\n",
    "            for k in measures[key].keys():\n",
    "                print(k,measures[key][k])\n",
    "        else:\n",
    "            print(key,measures[key])\n",
    "            if key == 'TAG':\n",
    "                print()\n",
    "            \n",
    "            \n",
    "\n",
    "def save_relevant_measures(measures, filename):\n",
    "    with open(filename, 'w') as f:\n",
    "        for key in measures.keys():\n",
    "            if isinstance(measures[key],dict):\n",
    "                f.write(key + '\\n')\n",
    "                for k in measures[key].keys():\n",
    "                    f.write(k + ' ' + str(measures[key][k]) + '\\n')\n",
    "            else:\n",
    "                f.write(key + ' ' + str(measures[key]) + '\\n')\n"
   ]
  },
  {
   "cell_type": "code",
   "execution_count": 3,
   "metadata": {},
   "outputs": [
    {
     "name": "stdout",
     "output_type": "stream",
     "text": [
      "MOD_cellshilicnegGFstatus.csv\n",
      "MOD_cellshilicposGFstatus.csv\n",
      "MOD_cellslipidnegGFstatus.csv\n",
      "MOD_cellslipidposGFstatus.csv\n",
      "MOD_cellsRPnegGFstatus.csv\n",
      "MOD_cellsRPposGFstatus.csv\n",
      "RESIDUALS_cellshilicnegGFstatus.csv\n",
      "RESIDUALS_cellshilicposGFstatus.csv\n",
      "RESIDUALS_cellslipidnegGFstatus.csv\n",
      "RESIDUALS_cellslipidposGFstatus.csv\n",
      "RESIDUALS_cellsRPnegGFstatus.csv\n",
      "RESIDUALS_cellsRPposGFstatus.csv\n",
      "\n",
      "\n",
      "\n"
     ]
    }
   ],
   "source": [
    "pathIN = \"../data/modified_data/\"\n",
    "filenames = [line.split('\\n')[0] for line in open(pathIN + \"filenames.txt\")]\n",
    "for i in  range(len(filenames)):print(filenames[i])"
   ]
  },
  {
   "cell_type": "code",
   "execution_count": 4,
   "metadata": {},
   "outputs": [
    {
     "name": "stdout",
     "output_type": "stream",
     "text": [
      "RESIDUALS_cellshilicnegGFstatus.csv\n"
     ]
    }
   ],
   "source": [
    "fnum=6\n",
    "fname = filenames[fnum]\n",
    "data = pd.read_csv(pathIN + fname, sep=\";\")\n",
    "area = data.iloc[:, :40].to_numpy()\n",
    "gaps = data.iloc[:, 40:].to_numpy()\n",
    "print(fname)"
   ]
  },
  {
   "cell_type": "code",
   "execution_count": 5,
   "metadata": {},
   "outputs": [
    {
     "data": {
      "text/plain": [
       "39.300000000000004"
      ]
     },
     "execution_count": 5,
     "metadata": {},
     "output_type": "execute_result"
    }
   ],
   "source": [
    "area.shape[0]*0.05*6"
   ]
  },
  {
   "cell_type": "code",
   "execution_count": 25,
   "metadata": {},
   "outputs": [],
   "source": [
    "#np.random.seed(0)\n",
    "#effect_model = lambda x, y: insert_abramovich_shifts_legacy(x, y, r=1.5, p=1)\n",
    "effect_model = lambda x, y: insert_model_shifts_legacy(x, y, shift_model=lambda: 1)\n",
    "mask_model = lambda x: generate_random_effect_maskV2(x.shape[0], 0.05*6, [1], lambda: 1 if np.random.rand() < 0.5 else -1, randomize_rows=True)\n",
    "\n",
    "result= FDR_experimentV1(area, n_iter=1000, alpha=0.05, \\\n",
    "    equal_var=True,mask_model=mask_model, effect_model=effect_model)"
   ]
  },
  {
   "cell_type": "code",
   "execution_count": 19,
   "metadata": {},
   "outputs": [],
   "source": [
    "#np.random.seed(0)\n",
    "#effect_model = lambda x, y: insert_abramovich_shifts_legacy(x, y, r=1.5, p=1)\n",
    "effect_model = lambda x, y: insert_model_shifts_legacy(x, y, shift_model=lambda: 1)\n",
    "mask_model = lambda x: generate_random_effect_maskV2(x.shape[0], 0.05*6, [1], lambda: 1 if np.random.rand() < 0.5 else -1, randomize_rows=True)\n",
    "\n",
    "result= FDR_experimentV2(area, n_iter=1000, alpha=0.05, \\\n",
    "    equal_var=True,mask_model=mask_model, effect_model=effect_model, method='fdr_bh', th=0.05)"
   ]
  },
  {
   "cell_type": "code",
   "execution_count": 26,
   "metadata": {},
   "outputs": [],
   "source": [
    "result = FDR_resampling_experimentV1(area, n_iter=1000, n_iter_inner=1000, alpha=0.05, equal_var=True, mask_model=mask_model, effect_model=effect_model)"
   ]
  },
  {
   "cell_type": "code",
   "execution_count": 18,
   "metadata": {},
   "outputs": [
    {
     "name": "stdout",
     "output_type": "stream",
     "text": [
      "n_effects_average 39.0\n",
      "n_tests_average 786.0\n",
      "m0_average 747.0\n",
      "TAG UNKNOWN\n",
      "\n",
      "FDR_SPECTRAL\n",
      "Sensitivity 0.512051282051282\n",
      "Specificity 0.9980589022757698\n",
      "FDR 0.03727406839891975\n",
      "FDP_var 0.011480673465069226\n",
      "FWER 0.22\n",
      "Average_Power 0.512051282051282\n",
      "Accuracy 0.9739440203562342\n",
      "Average_Proportion_Rejections 0.5492307692307692\n",
      "FDR_CLUSTER\n",
      "Sensitivity 0.54\n",
      "Specificity 0.9966934404283802\n",
      "FDR 0.06316899173642632\n",
      "FDP_var 0.017503352836333832\n",
      "FWER 0.36\n",
      "Average_Power 0.54\n",
      "Accuracy 0.9740330788804072\n",
      "Average_Proportion_Rejections 0.6033333333333334\n",
      "BONF_SPECTRAL\n",
      "Sensitivity 0.3600000000000001\n",
      "Specificity 0.9998393574297189\n",
      "FDR 0.0048874722302714195\n",
      "FDP_var 0.0008970185262326237\n",
      "FWER 0.04\n",
      "Average_Power 0.3600000000000001\n",
      "Accuracy 0.9680916030534351\n",
      "Average_Proportion_Rejections 0.36307692307692313\n",
      "BONF_CLUSTER\n",
      "Sensitivity 0.377948717948718\n",
      "Specificity 0.9998259705488621\n",
      "FDR 0.005239439103977423\n",
      "FDP_var 0.0009728835662059819\n",
      "FWER 0.04\n",
      "Average_Power 0.377948717948718\n",
      "Accuracy 0.9689694656488547\n",
      "Average_Proportion_Rejections 0.3812820512820514\n",
      "M_eff_spectral_average_proportion 0.8766666666666666\n",
      "M_eff_cluster_average_proportion 0.5943384223918576\n"
     ]
    }
   ],
   "source": [
    "measures = calculate_relevant_measures_general(result)\n",
    "print_relevant_measures(measures)"
   ]
  },
  {
   "cell_type": "code",
   "execution_count": 14,
   "metadata": {},
   "outputs": [
    {
     "name": "stdout",
     "output_type": "stream",
     "text": [
      "n_effects_average 39.0\n",
      "n_tests_average 786.0\n",
      "m0_average 747.0\n",
      "TAG UNKNOWN\n",
      "\n",
      "FDR_SPECTRAL\n",
      "Sensitivity 0.504102564102564\n",
      "Specificity 0.9984069611780455\n",
      "FDR 0.03516323225742464\n",
      "FDP_var 0.010125087673249369\n",
      "FWER 0.22\n",
      "Average_Power 0.504102564102564\n",
      "Accuracy 0.9738804071246819\n",
      "Average_Proportion_Rejections 0.5346153846153847\n",
      "FDR_CLUSTER\n",
      "Sensitivity 0.5494871794871795\n",
      "Specificity 0.996532797858099\n",
      "FDR 0.0659460839988816\n",
      "FDP_var 0.01775303498920998\n",
      "FWER 0.39\n",
      "Average_Power 0.5494871794871795\n",
      "Accuracy 0.9743511450381681\n",
      "Average_Proportion_Rejections 0.615897435897436\n",
      "BONF_SPECTRAL\n",
      "Sensitivity 0.36282051282051286\n",
      "Specificity 0.9998259705488621\n",
      "FDR 0.005\n",
      "FDP_var 0.0024749999999999998\n",
      "FWER 0.01\n",
      "Average_Power 0.36282051282051286\n",
      "Accuracy 0.9682188295165395\n",
      "Average_Proportion_Rejections 0.3661538461538461\n",
      "BONF_CLUSTER\n",
      "Sensitivity 0.3912820512820513\n",
      "Specificity 0.9997590361445784\n",
      "FDR 0.006658119658119659\n",
      "FDP_var 0.0028901496822266053\n",
      "FWER 0.03\n",
      "Average_Power 0.3912820512820513\n",
      "Accuracy 0.9695674300254453\n",
      "Average_Proportion_Rejections 0.395897435897436\n",
      "M_eff_spectral_average_proportion 0.876679389312977\n",
      "M_eff_cluster_average_proportion 0.48482188295165396\n"
     ]
    }
   ],
   "source": [
    "measures = calculate_relevant_measures_general(result)\n",
    "print_relevant_measures(measures)    "
   ]
  },
  {
   "cell_type": "code",
   "execution_count": 55,
   "metadata": {},
   "outputs": [
    {
     "data": {
      "text/plain": [
       "{'TAG': 'UNKNOWN',\n",
       " 'BH': {'Sensitivity': 0.43820915032679736,\n",
       "  'Specificity': 0.998505376344086,\n",
       "  'FDR': 0.03820649503228693,\n",
       "  'FDP_var': 0.006884077902635086,\n",
       "  'FWER': 0.539,\n",
       "  'Average_Power': 0.43820915032679736,\n",
       "  'Accuracy': 0.9702691040843215,\n",
       "  'Average_Proportion_Rejections': 0.46637254901960784},\n",
       " 'BY': {'Sensitivity': 0.2843071895424837,\n",
       "  'Specificity': 0.9998324661810614,\n",
       "  'FDR': 0.005405151000537511,\n",
       "  'FDP_var': 0.0013339428628392584,\n",
       "  'FWER': 0.093,\n",
       "  'Average_Power': 0.2843071895424837,\n",
       "  'Accuracy': 0.9637733860342557,\n",
       "  'Average_Proportion_Rejections': 0.2874640522875817},\n",
       " 'BONF': {'Sensitivity': 0.2122287581699346,\n",
       "  'Specificity': 0.9999719042663892,\n",
       "  'FDR': 0.0017448202129872214,\n",
       "  'FDP_var': 0.0002890297537504616,\n",
       "  'FWER': 0.029,\n",
       "  'Average_Power': 0.2122287581699346,\n",
       "  'Accuracy': 0.9602733860342556,\n",
       "  'Average_Proportion_Rejections': 0.21275816993464053},\n",
       " 'BH_2STEP': {'Sensitivity': 0.4408039215686275,\n",
       "  'Specificity': 0.9983773846687477,\n",
       "  'FDR': 0.03976852532287029,\n",
       "  'FDP_var': 0.007427393057623582,\n",
       "  'FWER': 0.548,\n",
       "  'Average_Power': 0.4408039215686275,\n",
       "  'Accuracy': 0.970278326745718,\n",
       "  'Average_Proportion_Rejections': 0.4713790849673203},\n",
       " 'BKY_2STEP': {'Sensitivity': 0.44035947712418305,\n",
       "  'Specificity': 0.9984255983350676,\n",
       "  'FDR': 0.0392013376391341,\n",
       "  'FDP_var': 0.007162730366495824,\n",
       "  'FWER': 0.546,\n",
       "  'Average_Power': 0.44035947712418305,\n",
       "  'Accuracy': 0.9703017127799738,\n",
       "  'Average_Proportion_Rejections': 0.47002614379084967},\n",
       " 'm0_estimates_bh_average_proportion': 1.025236696098234,\n",
       " 'm0_estimates_bky_average_proportion': 1.0286579951439474}"
      ]
     },
     "execution_count": 55,
     "metadata": {},
     "output_type": "execute_result"
    }
   ],
   "source": [
    "calculate_relevant_measures(result)"
   ]
  },
  {
   "cell_type": "code",
   "execution_count": 29,
   "metadata": {},
   "outputs": [],
   "source": [
    "result= FDR_experimentV2(area, n_iter=1000, alpha=0.05, \\\n",
    "    equal_var=True,mask_model=mask_model, effect_model=effect_model)"
   ]
  },
  {
   "cell_type": "code",
   "execution_count": 9,
   "metadata": {},
   "outputs": [
    {
     "data": {
      "text/plain": [
       "dict_keys(['TAG', 'BH', 'BY', 'BONF', 'BH_2STEP', 'BKY_2STEP', 'n_effects', 'counts', 'm0_estimates_bh', 'm0_estimates_bky'])"
      ]
     },
     "execution_count": 9,
     "metadata": {},
     "output_type": "execute_result"
    }
   ],
   "source": [
    "result.keys()"
   ]
  },
  {
   "cell_type": "code",
   "execution_count": 7,
   "metadata": {},
   "outputs": [
    {
     "name": "stdout",
     "output_type": "stream",
     "text": [
      "FWER: 0.124, FDR: 0.030303948487368858, POWER: 0.444\n"
     ]
    }
   ],
   "source": [
    "print_ERROR_and_POWER(result['BH']['FP'], result['BH']['rejections'], result['n_effects'])"
   ]
  },
  {
   "cell_type": "code",
   "execution_count": 9,
   "metadata": {},
   "outputs": [
    {
     "name": "stdout",
     "output_type": "stream",
     "text": [
      "5.08\n",
      "5.46\n",
      "5.26\n"
     ]
    }
   ],
   "source": [
    "# print the average number of discoveries\n",
    "print(result['rejections_fdr_spectral'].mean())\n",
    "print(result['rejections_fdr_cluster'].mean())\n",
    "print(result['rejections_bonf_spectral'].mean())"
   ]
  },
  {
   "cell_type": "code",
   "execution_count": 17,
   "metadata": {},
   "outputs": [],
   "source": [
    "#np.random.seed(0)\n",
    "#effect_model = lambda x, y: insert_abramovich_shifts_legacy(x, y, r=1.5, p=1)\n",
    "mask_model = lambda x: generate_random_effect_maskV2(x.shape[0], 0.1, [1], lambda: 1 if np.random.rand() < 0.5 else -1, randomize_rows=True)\n",
    "#scale_model = lambda x: randomly_scale_groups_legacy(x, lambda: 1 + np.random.uniform(-0.5,0.5))\n",
    "scale_model = None\n",
    "effect_model = lambda x, y: insert_model_shifts_legacy(x, y, shift_model=lambda: 1.0)\n",
    "result= FDR_experimentV3(area, n_iter=100, alpha=0.05, filter=None, \\\n",
    "    equal_var=True,mask_model=mask_model, effect_model=effect_model, \\\n",
    "        scale_model=scale_model, method = 'fdr_bh', combine_method='harmonic', th=0.01)"
   ]
  },
  {
   "cell_type": "code",
   "execution_count": 21,
   "metadata": {},
   "outputs": [],
   "source": [
    "result= FDR_experimentV3(area, n_iter=500, alpha=0.05, filter=None, \\\n",
    "    equal_var=True, method = 'fdr_bh', combine_method='harmonic', th=0.01)"
   ]
  },
  {
   "cell_type": "code",
   "execution_count": 22,
   "metadata": {},
   "outputs": [
    {
     "data": {
      "text/plain": [
       "591.368"
      ]
     },
     "execution_count": 22,
     "metadata": {},
     "output_type": "execute_result"
    }
   ],
   "source": [
    "result['M_eff'].mean()"
   ]
  },
  {
   "cell_type": "code",
   "execution_count": 23,
   "metadata": {},
   "outputs": [
    {
     "data": {
      "image/png": "[encoded data removed]",
      "text/plain": [
       "<Figure size 640x480 with 1 Axes>"
      ]
     },
     "metadata": {},
     "output_type": "display_data"
    }
   ],
   "source": [
    "plt.hist(result['pvalues'].flatten())\n",
    "plt.show()"
   ]
  },
  {
   "cell_type": "code",
   "execution_count": 24,
   "metadata": {},
   "outputs": [
    {
     "data": {
      "text/plain": [
       "(500, 786)"
      ]
     },
     "execution_count": 24,
     "metadata": {},
     "output_type": "execute_result"
    }
   ],
   "source": [
    "k=20\n",
    "orderstats = np.sort(result['pvalues'], axis=1)\n",
    "orderstats.shape"
   ]
  },
  {
   "cell_type": "code",
   "execution_count": 25,
   "metadata": {},
   "outputs": [
    {
     "data": {
      "image/png": "[encoded data removed]",
      "text/plain": [
       "<Figure size 1000x500 with 1 Axes>"
      ]
     },
     "metadata": {},
     "output_type": "display_data"
    }
   ],
   "source": [
    "# plot boxplots of order statistics\n",
    "plt.figure(figsize=(10,5))\n",
    "plt.boxplot(orderstats[:,:k])\n",
    "plt.xlabel('Order')\n",
    "plt.ylabel('P-values')\n",
    "plt.plot(np.arange(1,k+1), np.arange(1,k+1)/orderstats.shape[1], color='black', linestyle='--', label='Simes-Hochberg')\n",
    "plt.plot(np.arange(1,k+1), np.arange(1,k+1)/result['M_eff'].mean(), color='red', linestyle='--', label='Cluster M_eff')\n",
    "plt.title('Order statistics of p-values and Simes line with number of tests vs effective number of tests')\n",
    "plt.legend()\n",
    "plt.show()"
   ]
  },
  {
   "cell_type": "code",
   "execution_count": 199,
   "metadata": {},
   "outputs": [
    {
     "name": "stdout",
     "output_type": "stream",
     "text": [
      "FDR: 0.042000, FWER: 0.042000, Power: nan\n"
     ]
    },
    {
     "name": "stderr",
     "output_type": "stream",
     "text": [
      "c:\\Users\\paavo\\Tiedostot\\PARKINSONS\\PDproj\\paavothesis\\notebooks\\../code/data_modification\\effects.py:392: RuntimeWarning: invalid value encountered in divide\n",
      "  power = tp/n_effects\n"
     ]
    }
   ],
   "source": [
    "print_ERRORS_and_POWER(result['FP'], result['rejections'], result['n_effects'])"
   ]
  },
  {
   "cell_type": "code",
   "execution_count": null,
   "metadata": {},
   "outputs": [],
   "source": [
    "'''\n",
    "'FN_bh_neff': FN_bh, 'FP_bh_neff': FP_bh, 'rejections_bh_neff': rejections_bh, \\\n",
    "            'FN_by_neff': FN_by, 'FP_by_neff': FP_by, 'rejections_by_neff': rejections_by, \\\n",
    "            'FN_bonf_neff': FN_bonf, 'FP_bonf_neff': FP_bonf, 'rejections_bonf_neff': rejections_bonf, \\\n",
    "            'n_effects': n_effects, 'counts': counts, 'M_eff': M_eff\n",
    "'''"
   ]
  },
  {
   "cell_type": "code",
   "execution_count": 29,
   "metadata": {},
   "outputs": [
    {
     "data": {
      "text/plain": [
       "(0.1526, 0.0222, 0.0202)"
      ]
     },
     "execution_count": 29,
     "metadata": {},
     "output_type": "execute_result"
    }
   ],
   "source": [
    "np.mean(result['FP_bh_neff']>=1), np.mean(result['FP_by_neff']>=1), np.mean(result['FP_bonf_neff']>=1)"
   ]
  },
  {
   "cell_type": "code",
   "execution_count": 114,
   "metadata": {},
   "outputs": [
    {
     "data": {
      "text/plain": [
       "(0.1251, 0.0192, 0.0182, 0.1267, 0.1264)"
      ]
     },
     "execution_count": 114,
     "metadata": {},
     "output_type": "execute_result"
    }
   ],
   "source": [
    "np.mean(result['FP_bh']>=1), np.mean(result['FP_by']>=1), np.mean(result['FP_bonf']>=1), np.mean(result['FP_bh_2step']>=1), np.mean(result['FP_bky_2step']>=1)"
   ]
  },
  {
   "cell_type": "code",
   "execution_count": 115,
   "metadata": {},
   "outputs": [
    {
     "data": {
      "text/plain": [
       "(18, 18.0, 18)"
      ]
     },
     "execution_count": 115,
     "metadata": {},
     "output_type": "execute_result"
    }
   ],
   "source": [
    "result['n_effects'].max(), result['n_effects'].mean(), result['n_effects'].min()"
   ]
  },
  {
   "cell_type": "code",
   "execution_count": 116,
   "metadata": {},
   "outputs": [
    {
     "name": "stdout",
     "output_type": "stream",
     "text": [
      "0.03015534163549807 0.4178444444444444\n",
      "0.004526639710306893 0.3085333333333333\n",
      "0.004800277402715558 0.31750555555555554\n",
      "0.030912516795601884 0.41866111111111115\n",
      "0.03053308318730151 0.41842777777777784\n"
     ]
    }
   ],
   "source": [
    "print_FDR_and_POWER(result['FP_bh'], result['rejections_bh'], result['n_effects'])\n",
    "print_FDR_and_POWER(result['FP_by'], result['rejections_by'], result['n_effects'])\n",
    "print_FDR_and_POWER(result['FP_bonf'], result['rejections_bonf'], result['n_effects'])\n",
    "print_FDR_and_POWER(result['FP_bh_2step'], result['rejections_bh_2step'], result['n_effects'])\n",
    "print_FDR_and_POWER(result['FP_bky_2step'], result['rejections_bky_2step'], result['n_effects'])"
   ]
  },
  {
   "cell_type": "code",
   "execution_count": 13,
   "metadata": {},
   "outputs": [],
   "source": [
    "#np.random.seed(1)\n",
    "#effect_model = lambda x, y: insert_abramovich_shifts_legacy(x, y, r=1.5, p=1)\n",
    "#effect_model = lambda x, y: insert_model_shifts_legacy(x, y, shift_model=lambda: 5)\n",
    "#mask_model = lambda x: generate_random_effect_maskV2(x.shape[0], 16, [1], lambda: 1 if np.random.rand() < 0.5 else -1, randomize_rows=True)\n",
    "result= FDR_resampling_experimentV1(area, n_iter=100, n_iter_inner=100, alpha=0.05, filter=variance_filter_inds(0,'prop'), \\\n",
    "    equal_var=True, effect_model=effect_model, mask_model=mask_model, scale_model=scale_model, full_resampling=False)"
   ]
  },
  {
   "cell_type": "code",
   "execution_count": 14,
   "metadata": {},
   "outputs": [
    {
     "data": {
      "text/plain": [
       "dict_keys(['TAG', 'WY', 'REINER_BH', 'REINER_BY', 'n_effects', 'counts'])"
      ]
     },
     "execution_count": 14,
     "metadata": {},
     "output_type": "execute_result"
    }
   ],
   "source": [
    "result.keys()\n"
   ]
  },
  {
   "cell_type": "code",
   "execution_count": 19,
   "metadata": {},
   "outputs": [
    {
     "data": {
      "text/plain": [
       "(0.05, 0.05, 0.15)"
      ]
     },
     "execution_count": 19,
     "metadata": {},
     "output_type": "execute_result"
    }
   ],
   "source": [
    "np.mean(result['WY']['FP']>=1), np.mean(result['WY']['FP']>=1), np.mean(result['REINER_BH']['FP']>=1)"
   ]
  },
  {
   "cell_type": "code",
   "execution_count": 20,
   "metadata": {},
   "outputs": [
    {
     "name": "stdout",
     "output_type": "stream",
     "text": [
      "FWER: 0.15, FDR: 0.03761913086913087, POWER: 0.4516666666666667\n"
     ]
    }
   ],
   "source": [
    "print_ERROR_and_POWER(result['REINER_BH']['FP'],result['REINER_BH']['rejections'],result['n_effects'])"
   ]
  },
  {
   "cell_type": "code",
   "execution_count": 18,
   "metadata": {},
   "outputs": [
    {
     "data": {
      "text/plain": [
       "(0.15, 0.15, 0.05)"
      ]
     },
     "execution_count": 18,
     "metadata": {},
     "output_type": "execute_result"
    }
   ],
   "source": [
    "np.mean(result['REINER_BH']['FP']>=1), np.mean(result['REINER_BH']['FP']>=1), np.mean(result['WY']['FP']>=1)"
   ]
  },
  {
   "cell_type": "code",
   "execution_count": 140,
   "metadata": {},
   "outputs": [
    {
     "name": "stdout",
     "output_type": "stream",
     "text": [
      "0.010428571428571428 0.3466666666666666\n",
      "0.04372908373875866 0.41444444444444434\n",
      "0.0025 0.2994444444444444\n"
     ]
    }
   ],
   "source": [
    "print_FDR_and_POWER(result['FP_wy'], result['rejections_wy'], result['n_effects'])\n",
    "print_FDR_and_POWER(result['FP_reiner_bh'], result['rejections_reiner_bh'], result['n_effects'])\n",
    "print_FDR_and_POWER(result['FP_reiner_by'], result['rejections_reiner_by'], result['n_effects'])"
   ]
  }
 ],
 "metadata": {
  "kernelspec": {
   "display_name": "Python 3 (ipykernel)",
   "language": "python",
   "name": "python3"
  },
  "language_info": {
   "codemirror_mode": {
    "name": "ipython",
    "version": 3
   },
   "file_extension": ".py",
   "mimetype": "text/x-python",
   "name": "python",
   "nbconvert_exporter": "python",
   "pygments_lexer": "ipython3",
   "version": "3.10.13"
  }
 },
 "nbformat": 4,
 "nbformat_minor": 4
}
