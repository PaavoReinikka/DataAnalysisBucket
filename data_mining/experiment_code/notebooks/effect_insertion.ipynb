{
 "cells": [
  {
   "cell_type": "code",
   "execution_count": 1,
   "metadata": {},
   "outputs": [],
   "source": [
    "import matplotlib.pyplot as plt\n",
    "\n",
    "import numpy as np\n",
    "import pandas as pd\n",
    "\n",
    "import scipy.stats as stats\n",
    "from statsmodels.stats import multitest\n",
    "import copy\n",
    "\n",
    "import sys\n",
    "sys.path.insert(1, \"../code/utils\")\n",
    "sys.path.insert(1, \"../code/data_modification\")\n",
    "from celldata import *\n",
    "from effects import *"
   ]
  },
  {
   "cell_type": "code",
   "execution_count": 2,
   "metadata": {},
   "outputs": [
    {
     "name": "stdout",
     "output_type": "stream",
     "text": [
      "MOD_cellshilicnegGFstatus.csv\n",
      "MOD_cellshilicposGFstatus.csv\n",
      "MOD_cellslipidnegGFstatus.csv\n",
      "MOD_cellslipidposGFstatus.csv\n",
      "MOD_cellsRPnegGFstatus.csv\n",
      "MOD_cellsRPposGFstatus.csv\n"
     ]
    }
   ],
   "source": [
    "pathIN = \"../data/modified_data/\"\n",
    "filenames = [line.split('\\n')[0] for line in open(pathIN + \"filenames.txt\")][:6]\n",
    "for i in  range(len(filenames)):print(filenames[i])"
   ]
  },
  {
   "cell_type": "code",
   "execution_count": 3,
   "metadata": {},
   "outputs": [
    {
     "data": {
      "text/html": [
       "<div>\n",
       "<style scoped>\n",
       "    .dataframe tbody tr th:only-of-type {\n",
       "        vertical-align: middle;\n",
       "    }\n",
       "\n",
       "    .dataframe tbody tr th {\n",
       "        vertical-align: top;\n",
       "    }\n",
       "\n",
       "    .dataframe thead th {\n",
       "        text-align: right;\n",
       "    }\n",
       "</style>\n",
       "<table border=\"1\" class=\"dataframe\">\n",
       "  <thead>\n",
       "    <tr style=\"text-align: right;\">\n",
       "      <th></th>\n",
       "      <th>aSYN1</th>\n",
       "      <th>aSYN2</th>\n",
       "      <th>aSYN3</th>\n",
       "      <th>aSYN4</th>\n",
       "      <th>aSYN5</th>\n",
       "      <th>aSYN6</th>\n",
       "      <th>aSYN7</th>\n",
       "      <th>aSYN8</th>\n",
       "      <th>aSYN9</th>\n",
       "      <th>aSYN10</th>\n",
       "      <th>...</th>\n",
       "      <th>gap_UT31</th>\n",
       "      <th>gap_UT32</th>\n",
       "      <th>gap_UT33</th>\n",
       "      <th>gap_UT34</th>\n",
       "      <th>gap_UT35</th>\n",
       "      <th>gap_UT36</th>\n",
       "      <th>gap_UT37</th>\n",
       "      <th>gap_UT38</th>\n",
       "      <th>gap_UT39</th>\n",
       "      <th>gap_UT40</th>\n",
       "    </tr>\n",
       "  </thead>\n",
       "  <tbody>\n",
       "    <tr>\n",
       "      <th>0</th>\n",
       "      <td>15.254606</td>\n",
       "      <td>18.360318</td>\n",
       "      <td>15.400567</td>\n",
       "      <td>14.420070</td>\n",
       "      <td>16.597102</td>\n",
       "      <td>14.703329</td>\n",
       "      <td>15.227908</td>\n",
       "      <td>16.818747</td>\n",
       "      <td>13.928701</td>\n",
       "      <td>17.152922</td>\n",
       "      <td>...</td>\n",
       "      <td>128</td>\n",
       "      <td>128</td>\n",
       "      <td>128</td>\n",
       "      <td>128</td>\n",
       "      <td>128</td>\n",
       "      <td>0</td>\n",
       "      <td>128</td>\n",
       "      <td>128</td>\n",
       "      <td>128</td>\n",
       "      <td>128</td>\n",
       "    </tr>\n",
       "    <tr>\n",
       "      <th>1</th>\n",
       "      <td>22.410364</td>\n",
       "      <td>22.464977</td>\n",
       "      <td>21.081368</td>\n",
       "      <td>21.055675</td>\n",
       "      <td>21.473328</td>\n",
       "      <td>21.336169</td>\n",
       "      <td>21.284119</td>\n",
       "      <td>21.744014</td>\n",
       "      <td>21.011141</td>\n",
       "      <td>20.922923</td>\n",
       "      <td>...</td>\n",
       "      <td>0</td>\n",
       "      <td>0</td>\n",
       "      <td>0</td>\n",
       "      <td>0</td>\n",
       "      <td>0</td>\n",
       "      <td>0</td>\n",
       "      <td>0</td>\n",
       "      <td>0</td>\n",
       "      <td>0</td>\n",
       "      <td>0</td>\n",
       "    </tr>\n",
       "    <tr>\n",
       "      <th>2</th>\n",
       "      <td>16.895349</td>\n",
       "      <td>17.080227</td>\n",
       "      <td>16.233804</td>\n",
       "      <td>17.205554</td>\n",
       "      <td>15.819328</td>\n",
       "      <td>15.812081</td>\n",
       "      <td>16.559403</td>\n",
       "      <td>14.389293</td>\n",
       "      <td>16.351019</td>\n",
       "      <td>17.418719</td>\n",
       "      <td>...</td>\n",
       "      <td>128</td>\n",
       "      <td>128</td>\n",
       "      <td>128</td>\n",
       "      <td>128</td>\n",
       "      <td>128</td>\n",
       "      <td>128</td>\n",
       "      <td>128</td>\n",
       "      <td>128</td>\n",
       "      <td>128</td>\n",
       "      <td>128</td>\n",
       "    </tr>\n",
       "    <tr>\n",
       "      <th>3</th>\n",
       "      <td>24.332250</td>\n",
       "      <td>24.523963</td>\n",
       "      <td>23.517750</td>\n",
       "      <td>23.634971</td>\n",
       "      <td>23.420254</td>\n",
       "      <td>23.471751</td>\n",
       "      <td>23.529701</td>\n",
       "      <td>23.729067</td>\n",
       "      <td>23.249283</td>\n",
       "      <td>23.353825</td>\n",
       "      <td>...</td>\n",
       "      <td>0</td>\n",
       "      <td>0</td>\n",
       "      <td>0</td>\n",
       "      <td>0</td>\n",
       "      <td>0</td>\n",
       "      <td>0</td>\n",
       "      <td>0</td>\n",
       "      <td>0</td>\n",
       "      <td>0</td>\n",
       "      <td>0</td>\n",
       "    </tr>\n",
       "    <tr>\n",
       "      <th>4</th>\n",
       "      <td>25.934287</td>\n",
       "      <td>26.209291</td>\n",
       "      <td>24.447014</td>\n",
       "      <td>24.309717</td>\n",
       "      <td>24.918978</td>\n",
       "      <td>24.828963</td>\n",
       "      <td>24.601156</td>\n",
       "      <td>25.266577</td>\n",
       "      <td>24.379291</td>\n",
       "      <td>24.352791</td>\n",
       "      <td>...</td>\n",
       "      <td>0</td>\n",
       "      <td>0</td>\n",
       "      <td>0</td>\n",
       "      <td>0</td>\n",
       "      <td>0</td>\n",
       "      <td>0</td>\n",
       "      <td>0</td>\n",
       "      <td>0</td>\n",
       "      <td>0</td>\n",
       "      <td>0</td>\n",
       "    </tr>\n",
       "  </tbody>\n",
       "</table>\n",
       "<p>5 rows × 80 columns</p>\n",
       "</div>"
      ],
      "text/plain": [
       "       aSYN1      aSYN2      aSYN3      aSYN4      aSYN5      aSYN6  \\\n",
       "0  15.254606  18.360318  15.400567  14.420070  16.597102  14.703329   \n",
       "1  22.410364  22.464977  21.081368  21.055675  21.473328  21.336169   \n",
       "2  16.895349  17.080227  16.233804  17.205554  15.819328  15.812081   \n",
       "3  24.332250  24.523963  23.517750  23.634971  23.420254  23.471751   \n",
       "4  25.934287  26.209291  24.447014  24.309717  24.918978  24.828963   \n",
       "\n",
       "       aSYN7      aSYN8      aSYN9     aSYN10  ...  gap_UT31  gap_UT32  \\\n",
       "0  15.227908  16.818747  13.928701  17.152922  ...       128       128   \n",
       "1  21.284119  21.744014  21.011141  20.922923  ...         0         0   \n",
       "2  16.559403  14.389293  16.351019  17.418719  ...       128       128   \n",
       "3  23.529701  23.729067  23.249283  23.353825  ...         0         0   \n",
       "4  24.601156  25.266577  24.379291  24.352791  ...         0         0   \n",
       "\n",
       "   gap_UT33  gap_UT34  gap_UT35  gap_UT36  gap_UT37  gap_UT38  gap_UT39  \\\n",
       "0       128       128       128         0       128       128       128   \n",
       "1         0         0         0         0         0         0         0   \n",
       "2       128       128       128       128       128       128       128   \n",
       "3         0         0         0         0         0         0         0   \n",
       "4         0         0         0         0         0         0         0   \n",
       "\n",
       "   gap_UT40  \n",
       "0       128  \n",
       "1         0  \n",
       "2       128  \n",
       "3         0  \n",
       "4         0  \n",
       "\n",
       "[5 rows x 80 columns]"
      ]
     },
     "execution_count": 3,
     "metadata": {},
     "output_type": "execute_result"
    }
   ],
   "source": [
    "np.random.seed(0)\n",
    "fnum=0\n",
    "fname = filenames[fnum]\n",
    "data = pd.read_csv(pathIN + fname, sep=\";\")\n",
    "area = data.iloc[:, :40].to_numpy()\n",
    "gaps = data.iloc[:, 40:].to_numpy()\n",
    "data.head()"
   ]
  },
  {
   "cell_type": "code",
   "execution_count": 96,
   "metadata": {},
   "outputs": [],
   "source": [
    "area_pairwise = compile_pairwise_comparisons_legacy(area)\n",
    "gaps_pairwise = compile_pairwise_comparisons_legacy(gaps)"
   ]
  },
  {
   "cell_type": "code",
   "execution_count": 104,
   "metadata": {},
   "outputs": [],
   "source": [
    "vars1 = np.std(area_pairwise[:,:10], axis=1)\n",
    "vars2 = np.std(area_pairwise[:,10:], axis=1)"
   ]
  },
  {
   "cell_type": "code",
   "execution_count": 108,
   "metadata": {},
   "outputs": [
    {
     "data": {
      "text/plain": [
       "[<matplotlib.lines.Line2D at 0x1c2cdc9ab00>]"
      ]
     },
     "execution_count": 108,
     "metadata": {},
     "output_type": "execute_result"
    },
    {
     "data": {
      "image/png": "[encoded data removed]",
      "text/plain": [
       "<Figure size 640x480 with 1 Axes>"
      ]
     },
     "metadata": {},
     "output_type": "display_data"
    }
   ],
   "source": [
    "plt.plot(vars1, vars2, 'o')\n",
    "plt.plot([0, 2.5], [0, 2.5], 'k--')"
   ]
  },
  {
   "cell_type": "code",
   "execution_count": 112,
   "metadata": {},
   "outputs": [
    {
     "data": {
      "text/plain": [
       "1.2291268097534815"
      ]
     },
     "execution_count": 112,
     "metadata": {},
     "output_type": "execute_result"
    }
   ],
   "source": [
    "np.maximum(np.mean(vars1/vars2), np.mean(vars2/vars1))"
   ]
  },
  {
   "cell_type": "code",
   "execution_count": 113,
   "metadata": {},
   "outputs": [
    {
     "data": {
      "text/plain": [
       "(0.9830484444420833, 0.2838433495542519)"
      ]
     },
     "execution_count": 113,
     "metadata": {},
     "output_type": "execute_result"
    }
   ],
   "source": [
    "np.var(vars1/vars2), np.var(vars2/vars1)"
   ]
  },
  {
   "cell_type": "code",
   "execution_count": 5,
   "metadata": {},
   "outputs": [
    {
     "data": {
      "text/plain": [
       "(131, 40)"
      ]
     },
     "execution_count": 5,
     "metadata": {},
     "output_type": "execute_result"
    }
   ],
   "source": [
    "area.shape"
   ]
  },
  {
   "cell_type": "code",
   "execution_count": 6,
   "metadata": {},
   "outputs": [],
   "source": [
    "result = stats.ttest_ind(area_pairwise[:,:10], area_pairwise[:,10:], axis=1, equal_var=False)"
   ]
  },
  {
   "cell_type": "code",
   "execution_count": 7,
   "metadata": {},
   "outputs": [
    {
     "data": {
      "text/plain": [
       "0"
      ]
     },
     "execution_count": 7,
     "metadata": {},
     "output_type": "execute_result"
    }
   ],
   "source": [
    "multitest.multipletests(result.pvalue, alpha=0.05, method='fdr_bh', is_sorted=False, returnsorted=False)[0].sum()"
   ]
  },
  {
   "cell_type": "code",
   "execution_count": 88,
   "metadata": {},
   "outputs": [],
   "source": [
    "mask = generate_random_effect_maskV2(area.shape[0], 30, [1], lambda: 1 if np.random.rand() < 0.5 else -1)\n",
    "area_with_effects = insert_model_shifts_legacy(area, mask, lambda:np.random.normal(1.5, 0.2))\n",
    "gap_with_effects = insert_fisher_effects_legacy(gaps, mask)"
   ]
  },
  {
   "cell_type": "code",
   "execution_count": 89,
   "metadata": {},
   "outputs": [
    {
     "data": {
      "text/plain": [
       "30"
      ]
     },
     "execution_count": 89,
     "metadata": {},
     "output_type": "execute_result"
    }
   ],
   "source": [
    "compile_pairwise_effect_indicators(mask).sum()"
   ]
  },
  {
   "cell_type": "code",
   "execution_count": 90,
   "metadata": {},
   "outputs": [],
   "source": [
    "area_pairwise_with_effects = compile_pairwise_comparisons_legacy(area_with_effects)\n",
    "gaps_pairwise_with_effects = compile_pairwise_comparisons_legacy(gap_with_effects)"
   ]
  },
  {
   "cell_type": "code",
   "execution_count": 91,
   "metadata": {},
   "outputs": [],
   "source": [
    "_,c1,c2=reliability(gaps_pairwise_with_effects[:,:10], gaps_pairwise_with_effects[:,10:])"
   ]
  },
  {
   "cell_type": "code",
   "execution_count": 92,
   "metadata": {},
   "outputs": [
    {
     "data": {
      "text/plain": [
       "array([[ 1.,  0.,  0.,  0.],\n",
       "       [ 0.,  0., -1.,  0.],\n",
       "       [ 0.,  0.,  1.,  0.],\n",
       "       [ 0., -1.,  0.,  0.],\n",
       "       [ 0., -1.,  0.,  0.]])"
      ]
     },
     "execution_count": 92,
     "metadata": {},
     "output_type": "execute_result"
    }
   ],
   "source": [
    "mask[:5,:]"
   ]
  },
  {
   "cell_type": "code",
   "execution_count": 93,
   "metadata": {},
   "outputs": [
    {
     "data": {
      "text/plain": [
       "12"
      ]
     },
     "execution_count": 93,
     "metadata": {},
     "output_type": "execute_result"
    }
   ],
   "source": [
    "np.logical_or(np.logical_and(c1>=9, c2<=1), np.logical_and(c1<=1, c2>=9)).sum()"
   ]
  },
  {
   "cell_type": "code",
   "execution_count": 94,
   "metadata": {},
   "outputs": [],
   "source": [
    "result = stats.ttest_ind(area_pairwise_with_effects[:,:10], area_pairwise_with_effects[:,10:], axis=1, equal_var=False)"
   ]
  },
  {
   "cell_type": "code",
   "execution_count": 95,
   "metadata": {},
   "outputs": [
    {
     "data": {
      "text/plain": [
       "16"
      ]
     },
     "execution_count": 95,
     "metadata": {},
     "output_type": "execute_result"
    }
   ],
   "source": [
    "multitest.multipletests(result.pvalue, alpha=0.05, method='fdr_bh', is_sorted=False, returnsorted=False)[0].sum()"
   ]
  }
 ],
 "metadata": {
  "kernelspec": {
   "display_name": "base",
   "language": "python",
   "name": "python3"
  },
  "language_info": {
   "codemirror_mode": {
    "name": "ipython",
    "version": 3
   },
   "file_extension": ".py",
   "mimetype": "text/x-python",
   "name": "python",
   "nbconvert_exporter": "python",
   "pygments_lexer": "ipython3",
   "version": "3.10.13"
  }
 },
 "nbformat": 4,
 "nbformat_minor": 2
}
