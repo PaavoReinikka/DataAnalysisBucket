{
 "cells": [
  {
   "cell_type": "markdown",
   "id": "09a19270",
   "metadata": {},
   "source": [
    "## Main experiments and results mentioned in March suggestions."
   ]
  },
  {
   "cell_type": "markdown",
   "id": "d74db49d",
   "metadata": {},
   "source": [
    "### NOTE, WINDOWS USER:\n",
    "#### If you are running this with windows, the random seeds may not be the same. Use the commented-out windows seeds to confirm the results (not exactly the same NMI values, but in the ballpark)."
   ]
  },
  {
   "cell_type": "markdown",
   "id": "24893f24",
   "metadata": {},
   "source": [
    "# --------------------------------------------------------------------------------"
   ]
  },
  {
   "cell_type": "markdown",
   "id": "07286c4b",
   "metadata": {},
   "source": [
    "**This notebook holds the experiments and results that are referred to in the report. Most of the code/functions are hidden behind the 'Functions.py', and simply called from this notebook.**"
   ]
  },
  {
   "cell_type": "code",
   "execution_count": 1,
   "id": "4039deca",
   "metadata": {
    "scrolled": false
   },
   "outputs": [
    {
     "name": "stderr",
     "output_type": "stream",
     "text": [
      "[nltk_data] Downloading package averaged_perceptron_tagger to\n",
      "[nltk_data]     /home/paavo/nltk_data...\n",
      "[nltk_data]   Package averaged_perceptron_tagger is already up-to-\n",
      "[nltk_data]       date!\n",
      "[nltk_data] Downloading package wordnet to /home/paavo/nltk_data...\n",
      "[nltk_data]   Package wordnet is already up-to-date!\n",
      "[nltk_data] Downloading package punkt to /home/paavo/nltk_data...\n",
      "[nltk_data]   Package punkt is already up-to-date!\n"
     ]
    }
   ],
   "source": [
    "from Functions import *"
   ]
  },
  {
   "cell_type": "markdown",
   "id": "fb524aca",
   "metadata": {},
   "source": [
    "# -------------------------------------------------------------------------------"
   ]
  },
  {
   "cell_type": "markdown",
   "id": "7caab468",
   "metadata": {},
   "source": [
    "**As per initial experiments, appending TITLE and ABSTRACT provided the best performance - therefore, only appended data is used in these main experiments.**"
   ]
  },
  {
   "cell_type": "code",
   "execution_count": 2,
   "id": "4707befd",
   "metadata": {},
   "outputs": [],
   "source": [
    "data_all = pd.read_csv('./data/allData.csv', sep='#')\n",
    "data = data_all['APPTEXT']\n",
    "data_np=data.to_numpy()\n",
    "classes = data_all['CLASS']\n",
    "\n",
    "le = LabelEncoder()\n",
    "le.fit(classes)\n",
    "true_labels = le.transform(classes)"
   ]
  },
  {
   "cell_type": "markdown",
   "id": "4f1b3834",
   "metadata": {},
   "source": [
    "# -------------------------- Basic K-Means (models 1.i and 1.ii) --------"
   ]
  },
  {
   "cell_type": "markdown",
   "id": "fa3e2734",
   "metadata": {},
   "source": [
    "Basic K-Means without added stopwords (i.e., using nltk.corpus stopwords only) results in $NMI=0.8373$, and with 4 added stopwords results in $NMI=0.8456$. In both cases, all numbers and number-character combos (e.g., 1d, 2d, 3g) are removed, the minimum length of tokens is set to greater than 2, and snowball stemmer is used (instead of pos-tagging and lemmatization). Only mono-grams are used in both cases.\n",
    "\n",
    "Tf-idf calculations are done using sklearns TfidfVectorizer, with sublinear scaling - $\\mathbf{tf}_{sublin} = 1 + \\log{(\\mathbf{tf})}$, and without smoothing (as the vocabulary is determined from the data, there is no risk for zero division) - i.e., $\\mathbf{idf}$ is simply the inverse document frequency of a given term."
   ]
  },
  {
   "cell_type": "markdown",
   "id": "8bb4a73a",
   "metadata": {},
   "source": [
    "The definition of Preprocessor is in the separate 'Functions.py' file.\n",
    "\n",
    "**NOTE:** In the following section, there is a Pipelined solution for fast experiments and/or confirmation of the results."
   ]
  },
  {
   "cell_type": "markdown",
   "id": "bf37792e",
   "metadata": {},
   "source": [
    "**Run either one of the following $\\mathbf{sw}$ definitions (see WINDOWS seed).**"
   ]
  },
  {
   "cell_type": "code",
   "execution_count": 3,
   "id": "cd07197e",
   "metadata": {},
   "outputs": [],
   "source": [
    "sw1=set()\n",
    "rs1=52508 #WINDOWS: 18272"
   ]
  },
  {
   "cell_type": "code",
   "execution_count": 6,
   "id": "3163d4ea",
   "metadata": {},
   "outputs": [],
   "source": [
    "sw1=set(['use','paper','based','propos'])\n",
    "rs1=52508 #WINDOWS: 17149"
   ]
  },
  {
   "cell_type": "code",
   "execution_count": 7,
   "id": "c37ac825",
   "metadata": {},
   "outputs": [
    {
     "data": {
      "text/plain": [
       "(1332, 7992)"
      ]
     },
     "execution_count": 7,
     "metadata": {},
     "output_type": "execute_result"
    }
   ],
   "source": [
    "proc_1 = Preprocessor(stem=True, nonumbers=True, min_length=2, \\\n",
    "                                        numencode='drop',\\\n",
    "                                        stopwords=sw1, \\\n",
    "                                        verbose=False)\n",
    "\n",
    "tokens_1=proc_1.fit_transform(data_np)\n",
    "tfidf_1=TfidfVectorizer(smooth_idf=False,sublinear_tf=True,ngram_range=(1,1))\n",
    "\n",
    "features_1=tfidf_1.fit_transform(tokens_1)\n",
    "features_1.shape"
   ]
  },
  {
   "cell_type": "code",
   "execution_count": 8,
   "id": "54b09795",
   "metadata": {},
   "outputs": [
    {
     "name": "stdout",
     "output_type": "stream",
     "text": [
      "NMI: 0.8456092400330414\n"
     ]
    }
   ],
   "source": [
    "init='k-means++'\n",
    "kmeans_model_1 = KMeans(n_clusters=5,init=init, random_state=rs1).fit(features_1)\n",
    "print('NMI: {}'.format(normalized_mutual_info_score(true_labels,\\\n",
    "                                                    kmeans_model_1.labels_,\\\n",
    "                                                   average_method='geometric')))"
   ]
  },
  {
   "cell_type": "markdown",
   "id": "9832a67d",
   "metadata": {},
   "source": [
    "**Multiple runs of kmeans, for experimentation:**"
   ]
  },
  {
   "cell_type": "code",
   "execution_count": 13,
   "id": "a679be2d",
   "metadata": {},
   "outputs": [],
   "source": [
    "#run_kmeans_experiments(features_1,true_labels, repeats=10, verbose=True)"
   ]
  },
  {
   "cell_type": "markdown",
   "id": "d02106d5",
   "metadata": {},
   "source": [
    "# ----------------- K-Means Pipelined (model 1.i, 1.ii) -----------------"
   ]
  },
  {
   "cell_type": "markdown",
   "id": "bfa87faa",
   "metadata": {},
   "source": [
    "**Run either one of the following $\\mathbf{sw}$ definitions (see WINDOWS seed).**"
   ]
  },
  {
   "cell_type": "code",
   "execution_count": null,
   "id": "5143456b",
   "metadata": {},
   "outputs": [],
   "source": [
    "sw1=set()\n",
    "rs1=52508 #WINDOWS: 18272"
   ]
  },
  {
   "cell_type": "code",
   "execution_count": 23,
   "id": "6bf97566",
   "metadata": {},
   "outputs": [],
   "source": [
    "sw1=set(['use','paper','based','propos'])\n",
    "rs1=52508 #WINDOWS: 17149"
   ]
  },
  {
   "cell_type": "code",
   "execution_count": 24,
   "id": "f9cd7a8f",
   "metadata": {},
   "outputs": [
    {
     "data": {
      "text/plain": [
       "0.8456092400330414"
      ]
     },
     "execution_count": 24,
     "metadata": {},
     "output_type": "execute_result"
    }
   ],
   "source": [
    "model_1 = Pipeline([\n",
    "            ('preprocessor', Preprocessor(nonumbers=True, stem=True, min_length=2, \\\n",
    "                                        numencode='drop',\\\n",
    "                                        stopwords=sw1)),\n",
    "            ('vectorizer', TfidfVectorizer(\n",
    "                preprocessor=None, lowercase=False, ngram_range=(1,1),\\\n",
    "                smooth_idf=False,sublinear_tf=True)),\n",
    "            ('clusterer', KMeans(n_clusters=5, init=\"k-means++\", random_state=rs1))\n",
    "        ])\n",
    "\n",
    "result_1=model_1.fit(data.to_numpy())\n",
    "y_hat_1=result_1.predict(data.to_numpy())\n",
    "normalized_mutual_info_score(true_labels,y_hat_1, average_method='geometric')"
   ]
  },
  {
   "cell_type": "markdown",
   "id": "1a709894",
   "metadata": {},
   "source": [
    "# -------------------- Improved K-Means (1.iii) ---------------------------"
   ]
  },
  {
   "cell_type": "markdown",
   "id": "420bfa1d",
   "metadata": {},
   "source": [
    "**NOTE: There is no seed for WINDOWS seed; this result is not in the report.**"
   ]
  },
  {
   "cell_type": "markdown",
   "id": "921abf44",
   "metadata": {},
   "source": [
    "The K-Means can be slightly improved by pruning roughly $3/4$ of the features, as well as removing one token that all clusters share, 'use', by adding it to stopwords. \n",
    "\n",
    "**NOTE:** Through all the experiments, ~1300 mono-gram features were optimal; adding more or using less resulted in poorer performance. Even with dim-reduction or spectral embeddings, the same feature count performed the best. However, with mono- and bi-grams, spectral embedding can provide slightly higher NMI (also more stable) using more features (as will be demonstrated shortly)."
   ]
  },
  {
   "cell_type": "code",
   "execution_count": 11,
   "id": "8c713e7b",
   "metadata": {},
   "outputs": [],
   "source": [
    "sw2=set(['use'])"
   ]
  },
  {
   "cell_type": "code",
   "execution_count": 12,
   "id": "cf6514f0",
   "metadata": {},
   "outputs": [],
   "source": [
    "rs2=25503"
   ]
  },
  {
   "cell_type": "code",
   "execution_count": 13,
   "id": "cfc74b80",
   "metadata": {},
   "outputs": [
    {
     "data": {
      "text/plain": [
       "(1332, 1312)"
      ]
     },
     "execution_count": 13,
     "metadata": {},
     "output_type": "execute_result"
    }
   ],
   "source": [
    "proc_2 = Preprocessor(stem=True, nonumbers=True, min_length=2, \\\n",
    "                                        numencode='drop',\\\n",
    "                                        stopwords=sw2, \\\n",
    "                                        verbose=False)\n",
    "\n",
    "tokens_2=proc_2.fit_transform(data_np)\n",
    "tfidf_2=TfidfVectorizer(max_df=1.0, min_df=0.01,\\\n",
    "                        ngram_range=(1,1),smooth_idf=False,sublinear_tf=True)\n",
    "\n",
    "features_2=tfidf_2.fit_transform(tokens_2)\n",
    "features_2.shape"
   ]
  },
  {
   "cell_type": "code",
   "execution_count": 14,
   "id": "f815f9ed",
   "metadata": {},
   "outputs": [
    {
     "data": {
      "text/plain": [
       "0.8524458410075084"
      ]
     },
     "execution_count": 14,
     "metadata": {},
     "output_type": "execute_result"
    }
   ],
   "source": [
    "kmeans_model_2 = KMeans(n_clusters=5,init='k-means++',random_state=rs2).fit(features_2)\n",
    "normalized_mutual_info_score(true_labels,kmeans_model_2.labels_, average_method='geometric')"
   ]
  },
  {
   "cell_type": "code",
   "execution_count": 142,
   "id": "b08a804b",
   "metadata": {},
   "outputs": [],
   "source": [
    "#run_kmeans_experiments(features_2,true_labels, repeats=10, verbose=True)"
   ]
  },
  {
   "cell_type": "markdown",
   "id": "31f7f48d",
   "metadata": {},
   "source": [
    "### T-SNE visualization of the K-Means clustering (not in the report)"
   ]
  },
  {
   "cell_type": "code",
   "execution_count": 37,
   "id": "a4ed3834",
   "metadata": {},
   "outputs": [],
   "source": [
    "X_emb = TSNE(n_components=2, init='random', learning_rate='auto').fit_transform(features_2)"
   ]
  },
  {
   "cell_type": "code",
   "execution_count": 38,
   "id": "ca06f159",
   "metadata": {},
   "outputs": [
    {
     "data": {
      "text/plain": [
       "<matplotlib.collections.PathCollection at 0x7f110c30a2e0>"
      ]
     },
     "execution_count": 38,
     "metadata": {},
     "output_type": "execute_result"
    },
    {
     "data": {
      "image/png": "[encoded data removed]",
      "text/plain": [
       "<Figure size 432x288 with 1 Axes>"
      ]
     },
     "metadata": {
      "needs_background": "light"
     },
     "output_type": "display_data"
    }
   ],
   "source": [
    "plt.scatter(X_emb[:,0],X_emb[:,1],c=kmeans_model_2.labels_)"
   ]
  },
  {
   "cell_type": "markdown",
   "id": "907794b4",
   "metadata": {},
   "source": [
    "# --------------- Improved K-Means Pipelined (model 1.iii) ----------"
   ]
  },
  {
   "cell_type": "markdown",
   "id": "46848864",
   "metadata": {},
   "source": [
    "**Same as previous, not in the report.**"
   ]
  },
  {
   "cell_type": "code",
   "execution_count": 25,
   "id": "e0c385da",
   "metadata": {},
   "outputs": [],
   "source": [
    "sw2=set(['use'])"
   ]
  },
  {
   "cell_type": "code",
   "execution_count": 26,
   "id": "b09f7797",
   "metadata": {},
   "outputs": [
    {
     "data": {
      "text/plain": [
       "0.8524458410075084"
      ]
     },
     "execution_count": 26,
     "metadata": {},
     "output_type": "execute_result"
    }
   ],
   "source": [
    "rs2 = 25503\n",
    "\n",
    "model_2 = Pipeline([\n",
    "            ('preprocessor', Preprocessor(nonumbers=True, stem=True, min_length=2, \\\n",
    "                                        numencode='drop',\\\n",
    "                                        stopwords=sw2)),\n",
    "            ('vectorizer', TfidfVectorizer(max_df=1.0, min_df=0.01,\\\n",
    "                preprocessor=None, lowercase=False, ngram_range=(1,1),\\\n",
    "                smooth_idf=False,sublinear_tf=True)),\n",
    "            ('clusterer', KMeans(n_clusters=5, init=\"k-means++\", random_state=rs2))\n",
    "        ])\n",
    "\n",
    "result_2=model_2.fit(data.to_numpy())\n",
    "y_hat_2=result_2.predict(data.to_numpy())\n",
    "normalized_mutual_info_score(true_labels,y_hat_2, average_method='geometric')"
   ]
  },
  {
   "cell_type": "markdown",
   "id": "78b9788c",
   "metadata": {},
   "source": [
    "# ---------------------------- Spectral Clustering -------------------------"
   ]
  },
  {
   "cell_type": "markdown",
   "id": "ab7ec991",
   "metadata": {},
   "source": [
    "**This clustering will be used for the reports final topic/cluster analysis.**"
   ]
  },
  {
   "cell_type": "code",
   "execution_count": 3,
   "id": "cf721722",
   "metadata": {},
   "outputs": [
    {
     "data": {
      "text/plain": [
       "(1332, 1700)"
      ]
     },
     "execution_count": 3,
     "metadata": {},
     "output_type": "execute_result"
    }
   ],
   "source": [
    "proc_3 = Preprocessor(stem=True, nonumbers=True, min_length=2, \\\n",
    "                                        numencode='drop',\\\n",
    "                                        stopwords=set(), \\\n",
    "                                        verbose=False)\n",
    "\n",
    "tokens_3=proc_3.fit_transform(data_np)\n",
    "tfidf_3=TfidfVectorizer(smooth_idf=False,sublinear_tf=True,max_features=1700,ngram_range=(1,2))\n",
    "\n",
    "features_3=tfidf_3.fit_transform(tokens_3)\n",
    "features_3.shape"
   ]
  },
  {
   "cell_type": "markdown",
   "id": "baea0e69",
   "metadata": {},
   "source": [
    "**(change the seed for WINDOWS)**"
   ]
  },
  {
   "cell_type": "code",
   "execution_count": 4,
   "id": "657efd05",
   "metadata": {},
   "outputs": [],
   "source": [
    "rs3=96703 #WINDOWS: 89414"
   ]
  },
  {
   "cell_type": "code",
   "execution_count": 5,
   "id": "9948ddf2",
   "metadata": {},
   "outputs": [],
   "source": [
    "sim = pairwise_kernels(features_3,gamma=1/2000, metric='laplacian')\n",
    "data_emb = SpectralEmbedding(n_components=28, eigen_solver='arpack',\\\n",
    "                             affinity='precomputed').fit_transform(sim)\n",
    "data_emb=normalize(data_emb)"
   ]
  },
  {
   "cell_type": "code",
   "execution_count": 6,
   "id": "3c521d20",
   "metadata": {},
   "outputs": [
    {
     "data": {
      "text/plain": [
       "0.8604308555095805"
      ]
     },
     "execution_count": 6,
     "metadata": {},
     "output_type": "execute_result"
    }
   ],
   "source": [
    "init='k-means++'\n",
    "spectral_model = KMeans(n_clusters=5,init=init, random_state=rs3).fit(data_emb)\n",
    "normalized_mutual_info_score(true_labels,spectral_model.labels_, average_method='geometric')"
   ]
  },
  {
   "cell_type": "markdown",
   "id": "42313008",
   "metadata": {},
   "source": [
    "**You can run some experiments, to see how stable the results are (compared to basic K-Means).**"
   ]
  },
  {
   "cell_type": "code",
   "execution_count": 39,
   "id": "14459b33",
   "metadata": {},
   "outputs": [],
   "source": [
    "#run_kmeans_experiments(data_emb, true_labels, repeats=10, verbose=True)"
   ]
  },
  {
   "cell_type": "markdown",
   "id": "cde09630",
   "metadata": {},
   "source": [
    "**Or, alternatively using self-defined functions (change the seed for WINDOWS):**"
   ]
  },
  {
   "cell_type": "code",
   "execution_count": 7,
   "id": "b26d311c",
   "metadata": {},
   "outputs": [],
   "source": [
    "rs4=39041 #WINDOWS: 52600"
   ]
  },
  {
   "cell_type": "code",
   "execution_count": 8,
   "id": "cf354c67",
   "metadata": {},
   "outputs": [],
   "source": [
    "L = laplacian(sim, normalize='sym')\n",
    "data_emb2=spect_embedding(L, n_components=28, normalized=True)"
   ]
  },
  {
   "cell_type": "code",
   "execution_count": 9,
   "id": "a8a1a0a0",
   "metadata": {},
   "outputs": [
    {
     "data": {
      "text/plain": [
       "0.8603505678937396"
      ]
     },
     "execution_count": 9,
     "metadata": {},
     "output_type": "execute_result"
    }
   ],
   "source": [
    "init='k-means++'\n",
    "spectral_model_2 = KMeans(n_clusters=5,init=init, random_state=rs4).fit(data_emb2)\n",
    "normalized_mutual_info_score(true_labels,spectral_model_2.labels_, average_method='geometric')"
   ]
  },
  {
   "cell_type": "markdown",
   "id": "afeb60e5",
   "metadata": {},
   "source": [
    "**For experiments:**"
   ]
  },
  {
   "cell_type": "code",
   "execution_count": 41,
   "id": "dde4959b",
   "metadata": {},
   "outputs": [],
   "source": [
    "#run_kmeans_experiments(data_emb2, true_labels, repeats=10, verbose=True)"
   ]
  },
  {
   "cell_type": "markdown",
   "id": "8b12cae3",
   "metadata": {},
   "source": [
    "**NOTE: At the end of this notebook, there is a chapter named \"Spectral clustering performance\", which demonstrates the performance of spectral embedding with different normalization schemes, using the embedding/feature space (28 components). It is rather trivial to get results in the order of NMI=0.84-0.86, and with high consistency. There are no seeds for testing on windows (these results are not in the report)**"
   ]
  },
  {
   "cell_type": "markdown",
   "id": "9ecefd1c",
   "metadata": {},
   "source": [
    "# ------------------- Cluster/Topic analysis -------------"
   ]
  },
  {
   "cell_type": "markdown",
   "id": "b010af47",
   "metadata": {},
   "source": [
    "### These are using the previous spectral clustering results (labels are 'spectral_model.labels_'). Just adding some non-informative tokens to stopwords."
   ]
  },
  {
   "cell_type": "code",
   "execution_count": 7,
   "id": "02320635",
   "metadata": {},
   "outputs": [],
   "source": [
    "proc_final = Preprocessor(stem=True, nonumbers=True, min_length=2, \\\n",
    "                                        numencode='drop',\\\n",
    "                                        stopwords=set(['use','paper','based','propos']), \\\n",
    "                                        verbose=False)\n",
    "\n",
    "tokens_final=proc_final.fit_transform(data_np)\n",
    "tfidf_final=TfidfVectorizer(smooth_idf=False,sublinear_tf=True,max_features=1700,ngram_range=(1,2))\n",
    "\n",
    "features_final=tfidf_final.fit_transform(tokens_3)"
   ]
  },
  {
   "cell_type": "markdown",
   "id": "5fa22d41",
   "metadata": {},
   "source": [
    "**Let's build a countVectorizer from the same tokens that were used to train the spectral model:**"
   ]
  },
  {
   "cell_type": "code",
   "execution_count": 8,
   "id": "8924bf9b",
   "metadata": {},
   "outputs": [],
   "source": [
    "cvec=CountVectorizer(max_features=1700,ngram_range=(1,2))\n",
    "counts = cvec.fit_transform(tokens_final)\n",
    "counts = counts.todense()"
   ]
  },
  {
   "cell_type": "markdown",
   "id": "2c7fa456",
   "metadata": {},
   "source": [
    "## NOTE:\n",
    "**Ignore the following warnings; they can not be avoided if we like to retain compatibility between different scikit-learn versions. The warnings come from using .get_feature_names() instead of .get_feature_names_out() in the table_top_words() -function.**"
   ]
  },
  {
   "cell_type": "code",
   "execution_count": 12,
   "id": "7626d9ba",
   "metadata": {},
   "outputs": [],
   "source": [
    "import warnings\n",
    "warnings.filterwarnings(\"ignore\")"
   ]
  },
  {
   "cell_type": "markdown",
   "id": "febd1724",
   "metadata": {},
   "source": [
    "**Now, we can list the most (top-k) significant features all together (mono-and possibly bi-grams). NOTE: The cluster labels are not the same as the underlying true classes, and need to be correctly mapped (for the report).**"
   ]
  },
  {
   "cell_type": "code",
   "execution_count": 13,
   "id": "242bae01",
   "metadata": {},
   "outputs": [
    {
     "data": {
      "text/html": [
       "<div>\n",
       "<style scoped>\n",
       "    .dataframe tbody tr th:only-of-type {\n",
       "        vertical-align: middle;\n",
       "    }\n",
       "\n",
       "    .dataframe tbody tr th {\n",
       "        vertical-align: top;\n",
       "    }\n",
       "\n",
       "    .dataframe thead th {\n",
       "        text-align: right;\n",
       "    }\n",
       "</style>\n",
       "<table border=\"1\" class=\"dataframe\">\n",
       "  <thead>\n",
       "    <tr style=\"text-align: right;\">\n",
       "      <th></th>\n",
       "      <th>Cluster 0</th>\n",
       "      <th>Cluster 1</th>\n",
       "      <th>Cluster 2</th>\n",
       "      <th>Cluster 3</th>\n",
       "      <th>Cluster 4</th>\n",
       "    </tr>\n",
       "  </thead>\n",
       "  <tbody>\n",
       "    <tr>\n",
       "      <th>0</th>\n",
       "      <td>databas</td>\n",
       "      <td>imag</td>\n",
       "      <td>robot</td>\n",
       "      <td>compil</td>\n",
       "      <td>secur</td>\n",
       "    </tr>\n",
       "    <tr>\n",
       "      <th>1</th>\n",
       "      <td>data</td>\n",
       "      <td>method</td>\n",
       "      <td>control</td>\n",
       "      <td>program</td>\n",
       "      <td>scheme</td>\n",
       "    </tr>\n",
       "    <tr>\n",
       "      <th>2</th>\n",
       "      <td>relat</td>\n",
       "      <td>detect</td>\n",
       "      <td>system</td>\n",
       "      <td>comput</td>\n",
       "      <td>key</td>\n",
       "    </tr>\n",
       "    <tr>\n",
       "      <th>3</th>\n",
       "      <td>system</td>\n",
       "      <td>model</td>\n",
       "      <td>perform</td>\n",
       "      <td>code</td>\n",
       "      <td>encrypt</td>\n",
       "    </tr>\n",
       "    <tr>\n",
       "      <th>4</th>\n",
       "      <td>queri</td>\n",
       "      <td>comput</td>\n",
       "      <td>model</td>\n",
       "      <td>languag</td>\n",
       "      <td>data</td>\n",
       "    </tr>\n",
       "  </tbody>\n",
       "</table>\n",
       "</div>"
      ],
      "text/plain": [
       "  Cluster 0 Cluster 1 Cluster 2 Cluster 3 Cluster 4\n",
       "0   databas      imag     robot    compil     secur\n",
       "1      data    method   control   program    scheme\n",
       "2     relat    detect    system    comput       key\n",
       "3    system     model   perform      code   encrypt\n",
       "4     queri    comput     model   languag      data"
      ]
     },
     "execution_count": 13,
     "metadata": {},
     "output_type": "execute_result"
    }
   ],
   "source": [
    "tops=top_cluster_features(counts, spectral_model.labels_,k=k)\n",
    "table1=table_top_words(cvec,tops)\n",
    "table1.columns = ['Cluster 0', 'Cluster 1', 'Cluster 2',\\\n",
    "           'Cluster 3', 'Cluster 4']\n",
    "table1"
   ]
  },
  {
   "cell_type": "markdown",
   "id": "2dede8d0",
   "metadata": {},
   "source": [
    "**As there is only one bi-gram among the top-10 features (and none in top-5), we should also table the most significant bi-grams (whether or not they are among the most significant features overall):**"
   ]
  },
  {
   "cell_type": "code",
   "execution_count": 13,
   "id": "8ddae428",
   "metadata": {},
   "outputs": [],
   "source": [
    "cvec_bigram=CountVectorizer(max_features=100,ngram_range=(2,2))\n",
    "counts_bigram=cvec_bigram.fit_transform(tokens_final)\n",
    "counts_bigram = counts_bigram.todense()"
   ]
  },
  {
   "cell_type": "code",
   "execution_count": 16,
   "id": "45161e67",
   "metadata": {},
   "outputs": [
    {
     "data": {
      "text/html": [
       "<div>\n",
       "<style scoped>\n",
       "    .dataframe tbody tr th:only-of-type {\n",
       "        vertical-align: middle;\n",
       "    }\n",
       "\n",
       "    .dataframe tbody tr th {\n",
       "        vertical-align: top;\n",
       "    }\n",
       "\n",
       "    .dataframe thead th {\n",
       "        text-align: right;\n",
       "    }\n",
       "</style>\n",
       "<table border=\"1\" class=\"dataframe\">\n",
       "  <thead>\n",
       "    <tr style=\"text-align: right;\">\n",
       "      <th></th>\n",
       "      <th>(Bi)Cluster 0</th>\n",
       "      <th>(Bi)Cluster 1</th>\n",
       "      <th>(Bi)Cluster 2</th>\n",
       "      <th>(Bi)Cluster 3</th>\n",
       "      <th>(Bi)Cluster 4</th>\n",
       "    </tr>\n",
       "  </thead>\n",
       "  <tbody>\n",
       "    <tr>\n",
       "      <th>0</th>\n",
       "      <td>relat databas</td>\n",
       "      <td>comput vision</td>\n",
       "      <td>soft robot</td>\n",
       "      <td>program languag</td>\n",
       "      <td>quantum comput</td>\n",
       "    </tr>\n",
       "    <tr>\n",
       "      <th>1</th>\n",
       "      <td>inform system</td>\n",
       "      <td>deep learn</td>\n",
       "      <td>robot system</td>\n",
       "      <td>high level</td>\n",
       "      <td>post quantum</td>\n",
       "    </tr>\n",
       "    <tr>\n",
       "      <th>2</th>\n",
       "      <td>big data</td>\n",
       "      <td>neural network</td>\n",
       "      <td>human robot</td>\n",
       "      <td>run time</td>\n",
       "      <td>public key</td>\n",
       "    </tr>\n",
       "    <tr>\n",
       "      <th>3</th>\n",
       "      <td>databas manag</td>\n",
       "      <td>convolut neural</td>\n",
       "      <td>result show</td>\n",
       "      <td>regist alloc</td>\n",
       "      <td>ellipt curv</td>\n",
       "    </tr>\n",
       "    <tr>\n",
       "      <th>4</th>\n",
       "      <td>manag system</td>\n",
       "      <td>real time</td>\n",
       "      <td>real time</td>\n",
       "      <td>quantum comput</td>\n",
       "      <td>internet thing</td>\n",
       "    </tr>\n",
       "  </tbody>\n",
       "</table>\n",
       "</div>"
      ],
      "text/plain": [
       "   (Bi)Cluster 0    (Bi)Cluster 1 (Bi)Cluster 2    (Bi)Cluster 3  \\\n",
       "0  relat databas    comput vision    soft robot  program languag   \n",
       "1  inform system       deep learn  robot system       high level   \n",
       "2       big data   neural network   human robot         run time   \n",
       "3  databas manag  convolut neural   result show     regist alloc   \n",
       "4   manag system        real time     real time   quantum comput   \n",
       "\n",
       "    (Bi)Cluster 4  \n",
       "0  quantum comput  \n",
       "1    post quantum  \n",
       "2      public key  \n",
       "3     ellipt curv  \n",
       "4  internet thing  "
      ]
     },
     "execution_count": 16,
     "metadata": {},
     "output_type": "execute_result"
    }
   ],
   "source": [
    "tops_bigram=top_cluster_features(counts_bigram, spectral_model.labels_,k=5)\n",
    "table2=table_top_words(cvec_bigram,tops_bigram)\n",
    "table2.columns = ['(Bi)Cluster 0', '(Bi)Cluster 1', '(Bi)Cluster 2',\\\n",
    "           '(Bi)Cluster 3', '(Bi)Cluster 4']\n",
    "table2"
   ]
  },
  {
   "cell_type": "markdown",
   "id": "0f4abc2e",
   "metadata": {},
   "source": [
    "**Finally, we can use LSA, in a somewhat unconventional way:  We extract a single topic, as defined by 5-10 most significant mono-or bi-grams, to describe each cluster. Unlike for clustering, for the topics we choose to use lemmatized tokens (stem=False, otherwise as before)**"
   ]
  },
  {
   "cell_type": "code",
   "execution_count": 14,
   "id": "5d61527e",
   "metadata": {},
   "outputs": [],
   "source": [
    "proc_lemm = Preprocessor(stem=False, nonumbers=True, min_length=2, \\\n",
    "                                        numencode='drop',\\\n",
    "                                        stopwords=set(['use','paper','based','propos']), \\\n",
    "                                        verbose=False)\n",
    "\n",
    "tokens_lemm=proc_lemm.fit_transform(data_np)\n",
    "tfidf_lemm=TfidfVectorizer(smooth_idf=False,sublinear_tf=True,max_features=1700,ngram_range=(1,2))\n",
    "\n",
    "features_lemm=tfidf_lemm.fit_transform(tokens_lemm)\n",
    "features_lemm=features_lemm.todense()"
   ]
  },
  {
   "cell_type": "markdown",
   "id": "24c1bfff",
   "metadata": {},
   "source": [
    "**And then printing a single topic for each cluster:**"
   ]
  },
  {
   "cell_type": "code",
   "execution_count": 15,
   "id": "376b32b2",
   "metadata": {},
   "outputs": [
    {
     "name": "stdout",
     "output_type": "stream",
     "text": [
      "Cluster 0: \n",
      "(database)(relational)(relational database)(data)(query)(system)(sql)(information)(schema)(approach)\n",
      "\n",
      "Cluster 1: \n",
      "(image)(vision)(detection)(method)(computer vision)(deep)(computer)(network)(model)(learning)\n",
      "\n",
      "Cluster 2: \n",
      "(robot)(control)(robotic)(system)(soft)(robotics)(task)(environment)(controller)(approach)\n",
      "\n",
      "Cluster 3: \n",
      "(compiler)(program)(code)(language)(memory)(graph)(processor)(optimization)(time)(transformation)\n",
      "\n",
      "Cluster 4: \n",
      "(security)(scheme)(key)(cryptography)(encryption)(secure)(attack)(quantum)(protocol)(propose)\n",
      "\n"
     ]
    }
   ],
   "source": [
    "all_tokens=[]\n",
    "for c in range(5):\n",
    "    cluster = features_lemm[np.where(spectral_model.labels_==c),:][0]\n",
    "    cluster = np.asarray(cluster)\n",
    "\n",
    "    topics = 1\n",
    "    lsa_model = TruncatedSVD(n_components=topics, algorithm='randomized', n_iter=10, random_state=42)\n",
    "    lsa_top=lsa_model.fit_transform(cluster)\n",
    "\n",
    "    # most important words for each topic\n",
    "    wpt = words_per_topic = 10\n",
    "    vocab = tfidf_lemm.get_feature_names()\n",
    "\n",
    "    for i, comp in enumerate(lsa_model.components_):\n",
    "        vocab_comp = zip(vocab, comp)\n",
    "        sorted_words = sorted(vocab_comp, key= lambda x:x[1],\\\n",
    "                              reverse=True)[:wpt]\n",
    "        print(\"Cluster \"+str(c)+\": \")\n",
    "        for t in sorted_words:\n",
    "            print('({})'.format(t[0]), end='')\n",
    "            all_tokens.append(t[0])\n",
    "        \n",
    "        print(\"\\n\")"
   ]
  },
  {
   "cell_type": "markdown",
   "id": "a64857ea",
   "metadata": {},
   "source": [
    "**And the same in a nice pandas dataframe:**"
   ]
  },
  {
   "cell_type": "code",
   "execution_count": 16,
   "id": "1c8c4408",
   "metadata": {},
   "outputs": [
    {
     "data": {
      "text/html": [
       "<div>\n",
       "<style scoped>\n",
       "    .dataframe tbody tr th:only-of-type {\n",
       "        vertical-align: middle;\n",
       "    }\n",
       "\n",
       "    .dataframe tbody tr th {\n",
       "        vertical-align: top;\n",
       "    }\n",
       "\n",
       "    .dataframe thead th {\n",
       "        text-align: right;\n",
       "    }\n",
       "</style>\n",
       "<table border=\"1\" class=\"dataframe\">\n",
       "  <thead>\n",
       "    <tr style=\"text-align: right;\">\n",
       "      <th></th>\n",
       "      <th>(LSA) Cluster 0</th>\n",
       "      <th>(LSA) Cluster 1</th>\n",
       "      <th>(LSA) Cluster 2</th>\n",
       "      <th>(LSA) Cluster 3</th>\n",
       "      <th>(LSA) Cluster 4</th>\n",
       "    </tr>\n",
       "  </thead>\n",
       "  <tbody>\n",
       "    <tr>\n",
       "      <th>0</th>\n",
       "      <td>database</td>\n",
       "      <td>image</td>\n",
       "      <td>robot</td>\n",
       "      <td>compiler</td>\n",
       "      <td>security</td>\n",
       "    </tr>\n",
       "    <tr>\n",
       "      <th>1</th>\n",
       "      <td>relational</td>\n",
       "      <td>vision</td>\n",
       "      <td>control</td>\n",
       "      <td>program</td>\n",
       "      <td>scheme</td>\n",
       "    </tr>\n",
       "    <tr>\n",
       "      <th>2</th>\n",
       "      <td>relational database</td>\n",
       "      <td>detection</td>\n",
       "      <td>robotic</td>\n",
       "      <td>code</td>\n",
       "      <td>key</td>\n",
       "    </tr>\n",
       "    <tr>\n",
       "      <th>3</th>\n",
       "      <td>data</td>\n",
       "      <td>method</td>\n",
       "      <td>system</td>\n",
       "      <td>language</td>\n",
       "      <td>cryptography</td>\n",
       "    </tr>\n",
       "    <tr>\n",
       "      <th>4</th>\n",
       "      <td>query</td>\n",
       "      <td>computer vision</td>\n",
       "      <td>soft</td>\n",
       "      <td>memory</td>\n",
       "      <td>encryption</td>\n",
       "    </tr>\n",
       "    <tr>\n",
       "      <th>5</th>\n",
       "      <td>system</td>\n",
       "      <td>deep</td>\n",
       "      <td>robotics</td>\n",
       "      <td>graph</td>\n",
       "      <td>secure</td>\n",
       "    </tr>\n",
       "    <tr>\n",
       "      <th>6</th>\n",
       "      <td>sql</td>\n",
       "      <td>computer</td>\n",
       "      <td>task</td>\n",
       "      <td>processor</td>\n",
       "      <td>attack</td>\n",
       "    </tr>\n",
       "    <tr>\n",
       "      <th>7</th>\n",
       "      <td>information</td>\n",
       "      <td>network</td>\n",
       "      <td>environment</td>\n",
       "      <td>optimization</td>\n",
       "      <td>quantum</td>\n",
       "    </tr>\n",
       "    <tr>\n",
       "      <th>8</th>\n",
       "      <td>schema</td>\n",
       "      <td>model</td>\n",
       "      <td>controller</td>\n",
       "      <td>time</td>\n",
       "      <td>protocol</td>\n",
       "    </tr>\n",
       "    <tr>\n",
       "      <th>9</th>\n",
       "      <td>approach</td>\n",
       "      <td>learning</td>\n",
       "      <td>approach</td>\n",
       "      <td>transformation</td>\n",
       "      <td>propose</td>\n",
       "    </tr>\n",
       "  </tbody>\n",
       "</table>\n",
       "</div>"
      ],
      "text/plain": [
       "       (LSA) Cluster 0  (LSA) Cluster 1 (LSA) Cluster 2 (LSA) Cluster 3  \\\n",
       "0             database            image           robot        compiler   \n",
       "1           relational           vision         control         program   \n",
       "2  relational database        detection         robotic            code   \n",
       "3                 data           method          system        language   \n",
       "4                query  computer vision            soft          memory   \n",
       "5               system             deep        robotics           graph   \n",
       "6                  sql         computer            task       processor   \n",
       "7          information          network     environment    optimization   \n",
       "8               schema            model      controller            time   \n",
       "9             approach         learning        approach  transformation   \n",
       "\n",
       "  (LSA) Cluster 4  \n",
       "0        security  \n",
       "1          scheme  \n",
       "2             key  \n",
       "3    cryptography  \n",
       "4      encryption  \n",
       "5          secure  \n",
       "6          attack  \n",
       "7         quantum  \n",
       "8        protocol  \n",
       "9         propose  "
      ]
     },
     "execution_count": 16,
     "metadata": {},
     "output_type": "execute_result"
    }
   ],
   "source": [
    "table_LSA=pd.DataFrame(np.asarray(all_tokens).reshape(-1,5,order='F'),columns=['(LSA) Cluster 0',\\\n",
    "                                                          '(LSA) Cluster 1',\\\n",
    "                                                          '(LSA) Cluster 2',\\\n",
    "                                                          '(LSA) Cluster 3',\\\n",
    "                                                          '(LSA) Cluster 4'])\n",
    "table_LSA"
   ]
  },
  {
   "cell_type": "markdown",
   "id": "179007a3",
   "metadata": {},
   "source": [
    "# ------------- (Extra) Spectral clustering performance ---------------------"
   ]
  },
  {
   "cell_type": "markdown",
   "id": "a377aa43",
   "metadata": {},
   "source": [
    "Below are some further experiments using different normalizations for the laplacian. Clearly, symmetric normalization results in best results, and using added (row) normalization for the embedded features results in more stable clustering."
   ]
  },
  {
   "cell_type": "markdown",
   "id": "d603e4a3",
   "metadata": {},
   "source": [
    "**No additional stopwords, since these are just experiments for high NMI.**"
   ]
  },
  {
   "cell_type": "markdown",
   "id": "0fb9433e",
   "metadata": {},
   "source": [
    "**Still using the same Preprocessing (mono- and bi-grams, 1700 features):**"
   ]
  },
  {
   "cell_type": "code",
   "execution_count": 6,
   "id": "65a4e2e6",
   "metadata": {},
   "outputs": [
    {
     "data": {
      "text/plain": [
       "(1332, 1700)"
      ]
     },
     "execution_count": 6,
     "metadata": {},
     "output_type": "execute_result"
    }
   ],
   "source": [
    "proc = Preprocessor(stem=True, nonumbers=True, min_length=2, \\\n",
    "                                        numencode='drop',\\\n",
    "                                        stopwords=set(), \\\n",
    "                                        verbose=False)\n",
    "\n",
    "res1=proc.fit_transform(data_np)\n",
    "tfidf=TfidfVectorizer(smooth_idf=False,sublinear_tf=True,max_features=1700,ngram_range=(1,2))\n",
    "\n",
    "res2=tfidf.fit_transform(res1)\n",
    "res3=res2.todense()\n",
    "\n",
    "res3.shape"
   ]
  },
  {
   "cell_type": "markdown",
   "id": "1d48ce54",
   "metadata": {},
   "source": [
    "**All of the following are using same laplacian similarity kernel, with slightly longer length scale than the default values (default would be 1/1700).**"
   ]
  },
  {
   "cell_type": "code",
   "execution_count": 7,
   "id": "9b9f4647",
   "metadata": {},
   "outputs": [],
   "source": [
    "sim = pairwise_kernels(res2,gamma=1/2000, metric='laplacian')"
   ]
  },
  {
   "cell_type": "markdown",
   "id": "a0f16752",
   "metadata": {},
   "source": [
    "**Sklearn's spectral embedding (un-normalized):**"
   ]
  },
  {
   "cell_type": "code",
   "execution_count": 8,
   "id": "363a7fdb",
   "metadata": {},
   "outputs": [],
   "source": [
    "data_emb = SpectralEmbedding(n_components=28, eigen_solver='arpack',\\\n",
    "                             affinity='precomputed').fit_transform(sim)"
   ]
  },
  {
   "cell_type": "markdown",
   "id": "5b27eb22",
   "metadata": {},
   "source": [
    "**Normalizing the embedding:**"
   ]
  },
  {
   "cell_type": "code",
   "execution_count": 9,
   "id": "12b027a3",
   "metadata": {},
   "outputs": [],
   "source": [
    "data_emb2=normalize(data_emb)"
   ]
  },
  {
   "cell_type": "markdown",
   "id": "4f8289c1",
   "metadata": {},
   "source": [
    "**Self defined spectral embedding/eigenmap, with symmetric laplacian, and normalized features:**"
   ]
  },
  {
   "cell_type": "code",
   "execution_count": 10,
   "id": "6fd7ee8d",
   "metadata": {},
   "outputs": [],
   "source": [
    "sim = pairwise_kernels(res2,gamma=1/2000, metric='laplacian')\n",
    "L = laplacian(sim, normalize='sym')\n",
    "data_emb3=spect_embedding(L, n_components=28, normalized=True)"
   ]
  },
  {
   "cell_type": "markdown",
   "id": "e1a07120",
   "metadata": {},
   "source": [
    "**The un-normalized features produce higher variance in the clustering results (which can result in high NMI as well), that are typically lower compared to normalized features:**"
   ]
  },
  {
   "cell_type": "code",
   "execution_count": 78,
   "id": "6f797b0f",
   "metadata": {},
   "outputs": [
    {
     "name": "stdout",
     "output_type": "stream",
     "text": [
      "max: 0.8345986041583318\n",
      "average: 0.8179332195284763\n",
      "seed: 50171\n"
     ]
    },
    {
     "data": {
      "text/plain": [
       "(0.8345986041583318, 50171)"
      ]
     },
     "execution_count": 78,
     "metadata": {},
     "output_type": "execute_result"
    }
   ],
   "source": [
    "#Un-normalized embedding\n",
    "#run_kmeans_experiments(data_emb, true_labels, 100, verbose=True)"
   ]
  },
  {
   "cell_type": "markdown",
   "id": "b2714a80",
   "metadata": {},
   "source": [
    "**Normalized features get more stable high results:**"
   ]
  },
  {
   "cell_type": "code",
   "execution_count": 74,
   "id": "c822324a",
   "metadata": {},
   "outputs": [
    {
     "name": "stdout",
     "output_type": "stream",
     "text": [
      "max: 0.8604293307613384\n",
      "average: 0.8446620618408137\n",
      "seed: 96703\n"
     ]
    },
    {
     "data": {
      "text/plain": [
       "(0.8604293307613384, 96703)"
      ]
     },
     "execution_count": 74,
     "metadata": {},
     "output_type": "execute_result"
    }
   ],
   "source": [
    "#Normalised embedding\n",
    "#run_kmeans_experiments(data_emb2, true_labels, 100, verbose=True)"
   ]
  },
  {
   "cell_type": "code",
   "execution_count": 13,
   "id": "cd40e70b",
   "metadata": {},
   "outputs": [
    {
     "name": "stdout",
     "output_type": "stream",
     "text": [
      "max: 0.8548991246887065\n",
      "average: 0.8447172909935345\n",
      "seed: 63816\n"
     ]
    },
    {
     "data": {
      "text/plain": [
       "(0.8548991246887065, 63816)"
      ]
     },
     "execution_count": 13,
     "metadata": {},
     "output_type": "execute_result"
    }
   ],
   "source": [
    "#Also normalized embedding (self-defined, for more control, for experiments)\n",
    "#run_kmeans_experiments(data_emb3, true_labels, 50, verbose=True)"
   ]
  },
  {
   "cell_type": "code",
   "execution_count": 71,
   "id": "9c8c22bf",
   "metadata": {},
   "outputs": [
    {
     "data": {
      "text/plain": [
       "0.8224745893745538"
      ]
     },
     "execution_count": 71,
     "metadata": {},
     "output_type": "execute_result"
    }
   ],
   "source": [
    "init='k-means++'\n",
    "spec_model = KMeans(n_clusters=5,init=init, random_state=25587).fit(data_emb)\n",
    "normalized_mutual_info_score(true_labels,spec_model.labels_, average_method='geometric')"
   ]
  },
  {
   "cell_type": "code",
   "execution_count": 76,
   "id": "d062c6c6",
   "metadata": {},
   "outputs": [
    {
     "data": {
      "text/plain": [
       "0.8604308555095805"
      ]
     },
     "execution_count": 76,
     "metadata": {},
     "output_type": "execute_result"
    }
   ],
   "source": [
    "init='k-means++'# 28 compon, normalize\n",
    "spec_model = KMeans(n_clusters=5,init=init, random_state=96703).fit(data_emb2)\n",
    "normalized_mutual_info_score(true_labels,spec_model.labels_, average_method='geometric')"
   ]
  },
  {
   "cell_type": "code",
   "execution_count": 77,
   "id": "d6b37818",
   "metadata": {},
   "outputs": [
    {
     "data": {
      "text/plain": [
       "0.8603505678937396"
      ]
     },
     "execution_count": 77,
     "metadata": {},
     "output_type": "execute_result"
    }
   ],
   "source": [
    "init='k-means++'#sym, 28 compon, normalized\n",
    "spec_model = KMeans(n_clusters=5,init=init, random_state=39041).fit(data_emb3)\n",
    "normalized_mutual_info_score(true_labels,spec_model.labels_, average_method='geometric')"
   ]
  },
  {
   "cell_type": "markdown",
   "id": "537b7b34",
   "metadata": {},
   "source": [
    "# ------------------------ (Parameter search) ---------------------"
   ]
  },
  {
   "cell_type": "markdown",
   "id": "6a30e14e",
   "metadata": {},
   "source": [
    "**Here is an example of the parameter grid search, although the entire parameter space is not represented here (for brevity). 'TITLE' and 'ABSTRACT' were tested in a similar manner.**"
   ]
  },
  {
   "cell_type": "code",
   "execution_count": null,
   "id": "9d2f56dc",
   "metadata": {},
   "outputs": [],
   "source": [
    "data_all = pd.read_csv('./data/allData.csv', sep='#')\n",
    "data = data_all['APPTEXT']\n",
    "data_np=data.to_numpy()\n",
    "classes = data_all['CLASS']\n",
    "\n",
    "le = LabelEncoder()\n",
    "le.fit(classes)\n",
    "true_labels = le.transform(classes)"
   ]
  },
  {
   "cell_type": "markdown",
   "id": "4ed77979",
   "metadata": {},
   "source": [
    "**For K-Means clustering: (DO NOT RUN; results already collected)**"
   ]
  },
  {
   "cell_type": "code",
   "execution_count": null,
   "id": "37efcdf8",
   "metadata": {},
   "outputs": [],
   "source": [
    "stem1 = [False, True]\n",
    "sublinear1 = [False, True]\n",
    "df_min1 = [0.005, 0.01, 0.015]\n",
    "ngrams1 = [1,2,3]\n",
    "\n",
    "#filename = './data/results_kmeans_appended.csv'"
   ]
  },
  {
   "cell_type": "code",
   "execution_count": null,
   "id": "908dade4",
   "metadata": {},
   "outputs": [],
   "source": [
    "with open(filename, 'w') as f:\n",
    "    f.write(\"STEM,DF_MIN,SUBLINEAR,topNGRAM,avgNMI,topNMI\\n\")\n",
    "\n",
    "count = 0\n",
    "\n",
    "for stem in stem1:\n",
    "    for sublinear in sublinear1:\n",
    "        for df_min in df_min1:\n",
    "            for ngram in ngrams1:\n",
    "                proc = Preprocessor(stem=stem, nonumbers=True, min_length=2, \\\n",
    "                                        numencode='drop', stopwords=set(), \\\n",
    "                                        verbose=False)\n",
    "                        \n",
    "                res1=proc.fit_transform(data_np)\n",
    "                tfidf=TfidfVectorizer(min_df=df_min, \\\n",
    "                                          sublinear_tf=sublinear, \\\n",
    "                                          ngram_range=(1,ngram))\n",
    "                        \n",
    "                res2=tfidf.fit_transform(res1)\n",
    "                #res3 = np.asarray(res2.todense())\n",
    "                    \n",
    "                print('--- Config: {}  -------'.format(count))\n",
    "                    \n",
    "                NMI, AVE, SEED = run_kmeans_experiments(res2,true_labels,20, verbose=False)\n",
    "                print('top-NMI: {}, avg-NMI: {}, SEED: {}'.format(NMI, AVE, SEED))\n",
    "                    \n",
    "                #pd.DataFrame(np.array([ngram,dfmax,dfmin,smoothidf,\\\n",
    "                #                       sublineartf,NMI,STD,SEED]).reshape(1,-1),columns=columns)\n",
    "                    \n",
    "                with open(filename, 'a') as f:\n",
    "                        f.write(\"{},{},{},{},{},{}\\n\".format(stem, df_min, sublinear,\\\n",
    "                                                             ngram, np.round(AVE,4),\\\n",
    "                                                             np.round(NMI,4)))\n",
    "                count+=1\n",
    "    "
   ]
  },
  {
   "cell_type": "markdown",
   "id": "3954ae14",
   "metadata": {},
   "source": [
    "**And similar search for spectral clustering: (DO NOT RUN; results already collected)**"
   ]
  },
  {
   "cell_type": "code",
   "execution_count": null,
   "id": "cb1833f7",
   "metadata": {},
   "outputs": [],
   "source": [
    "df_min2 = [0.005, 0.01, 0.015]\n",
    "kernels=['cosine', 'rbf', 'laplacian', 'polynomial']\n",
    "embeds=[20,30,40]\n",
    "\n",
    "#filename2 = './data/results_spectral_appended.csv'"
   ]
  },
  {
   "cell_type": "code",
   "execution_count": null,
   "id": "dfd49904",
   "metadata": {},
   "outputs": [],
   "source": [
    "with open(filename2, 'w') as f:\n",
    "    f.write(\"STEM,DF_MIN,SUBLINEAR,KERNEL,EMB_DIM,topNGRAM,avgNMI,topNMI\\n\")\n",
    "\n",
    "count = 0\n",
    "\n",
    "for df_min in df_min2:    \n",
    "    for kernel in kernels:\n",
    "        for embed in embeds:\n",
    "            proc = Preprocessor(stem=stem, nonumbers=True, min_length=2, \\\n",
    "                                            numencode='drop', stopwords=set(), \\\n",
    "                                            verbose=False)\n",
    "\n",
    "            res1=proc.fit_transform(data_np)\n",
    "            tfidf=TfidfVectorizer(min_df=df_min, \\\n",
    "                                              sublinear_tf=True, \\\n",
    "                                              ngram_range=(1,2))\n",
    "\n",
    "            res2=tfidf.fit_transform(res1)\n",
    "            #res3 = np.asarray(res2.todense())\n",
    "            \n",
    "            affin = lambda X: pairwise_kernels(X, metric=kernel)\n",
    "            features_emb = SpectralEmbedding(n_components=embed, eigen_solver='arpack',\\\n",
    "                             affinity=affin).fit_transform(res2)\n",
    "            features_emb = normalize(features_emb)\n",
    "            \n",
    "            print('--- Config: {}  -------'.format(count))\n",
    "\n",
    "            NMI, AVE, SEED = run_kmeans_experiments(features_emb,true_labels,20, verbose=False)\n",
    "            print('top-NMI: {}, avg-NMI: {}, SEED: {}'.format(NMI, AVE, SEED))\n",
    "\n",
    "            #pd.DataFrame(np.array([ngram,dfmax,dfmin,smoothidf,\\\n",
    "            #                       sublineartf,NMI,STD,SEED]).reshape(1,-1),columns=columns)\n",
    "\n",
    "            with open(filename2, 'a') as f:\n",
    "                f.write(\"{},{},{},{},{},{},{},{}\\n\".format(True, df_min, True,\\\n",
    "                                                           kernel, embed, 2,\\\n",
    "                                                           np.round(AVE,4),\\\n",
    "                                                           np.round(NMI,4)))\n",
    "            count+=1\n"
   ]
  },
  {
   "cell_type": "markdown",
   "id": "e1e3f65e",
   "metadata": {},
   "source": [
    "# -------------------------------------------- END ----------------------------------------------------"
   ]
  }
 ],
 "metadata": {
  "kernelspec": {
   "display_name": "Python 3 (ipykernel)",
   "language": "python",
   "name": "python3"
  },
  "language_info": {
   "codemirror_mode": {
    "name": "ipython",
    "version": 3
   },
   "file_extension": ".py",
   "mimetype": "text/x-python",
   "name": "python",
   "nbconvert_exporter": "python",
   "pygments_lexer": "ipython3",
   "version": "3.8.5"
  }
 },
 "nbformat": 4,
 "nbformat_minor": 5
}
